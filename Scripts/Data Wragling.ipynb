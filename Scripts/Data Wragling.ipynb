{
 "cells": [
  {
   "cell_type": "markdown",
   "id": "0f4eb800-ef8c-4ddf-b602-6230aabf4cc8",
   "metadata": {},
   "source": [
    "## Importing Libraries and Data"
   ]
  },
  {
   "cell_type": "code",
   "execution_count": 3,
   "id": "6ac63ced-a990-40c0-808d-66192ab38e13",
   "metadata": {},
   "outputs": [],
   "source": [
    "import pandas as pd\n",
    "import numpy as np\n",
    "import os\n",
    "import matplotlib.pyplot as plt\n",
    "\n",
    "import warnings\n",
    "warnings.simplefilter(action='ignore', category=FutureWarning)"
   ]
  },
  {
   "cell_type": "code",
   "execution_count": 4,
   "id": "a9cefc89-baed-4067-9434-df8eae5af8a5",
   "metadata": {},
   "outputs": [],
   "source": [
    "#folderpath = \"../Citibike_Project/Data/Prepared_data\"\n",
    "#df = pd.read_csv(os.path.join(folderpath, 'nyc_bike_weather_data.csv'),nrows=4800000, low_memory=False, encoding=\"utf-8\", index_col = 0)"
   ]
  },
  {
   "cell_type": "code",
   "execution_count": 5,
   "id": "7ada973b-040c-4c01-893f-d25a1f0b2f74",
   "metadata": {},
   "outputs": [],
   "source": [
    "folderpath = \"../Citibike_Project/Data/Prepared_data\"\n",
    "df = pd.read_pickle(os.path.join(folderpath, 'nyc_bike_weather_data.pkl'))"
   ]
  },
  {
   "cell_type": "code",
   "execution_count": 6,
   "id": "1334fe7b-4973-4b94-84d7-fdd50109db72",
   "metadata": {},
   "outputs": [
    {
     "data": {
      "text/plain": [
       "(29838806, 16)"
      ]
     },
     "execution_count": 6,
     "metadata": {},
     "output_type": "execute_result"
    }
   ],
   "source": [
    "df.shape"
   ]
  },
  {
   "cell_type": "code",
   "execution_count": 7,
   "id": "e10b752e-2911-4b03-8e0a-28f7ec436867",
   "metadata": {},
   "outputs": [
    {
     "data": {
      "text/plain": [
       "Index(['ride_id', 'rideable_type', 'started_at', 'ended_at',\n",
       "       'start_station_name', 'start_station_id', 'end_station_name',\n",
       "       'end_station_id', 'start_lat', 'start_lng', 'end_lat', 'end_lng',\n",
       "       'member_casual', 'date', 'avgTemp', '_merge'],\n",
       "      dtype='object')"
      ]
     },
     "execution_count": 7,
     "metadata": {},
     "output_type": "execute_result"
    }
   ],
   "source": [
    "df.columns"
   ]
  },
  {
   "cell_type": "code",
   "execution_count": 8,
   "id": "2001660f-7eff-4319-9c97-c9194f5d419b",
   "metadata": {},
   "outputs": [
    {
     "data": {
      "text/html": [
       "<div>\n",
       "<style scoped>\n",
       "    .dataframe tbody tr th:only-of-type {\n",
       "        vertical-align: middle;\n",
       "    }\n",
       "\n",
       "    .dataframe tbody tr th {\n",
       "        vertical-align: top;\n",
       "    }\n",
       "\n",
       "    .dataframe thead th {\n",
       "        text-align: right;\n",
       "    }\n",
       "</style>\n",
       "<table border=\"1\" class=\"dataframe\">\n",
       "  <thead>\n",
       "    <tr style=\"text-align: right;\">\n",
       "      <th></th>\n",
       "      <th>ride_id</th>\n",
       "      <th>rideable_type</th>\n",
       "      <th>started_at</th>\n",
       "      <th>ended_at</th>\n",
       "      <th>start_station_name</th>\n",
       "      <th>start_station_id</th>\n",
       "      <th>end_station_name</th>\n",
       "      <th>end_station_id</th>\n",
       "      <th>start_lat</th>\n",
       "      <th>start_lng</th>\n",
       "      <th>end_lat</th>\n",
       "      <th>end_lng</th>\n",
       "      <th>member_casual</th>\n",
       "      <th>date</th>\n",
       "      <th>avgTemp</th>\n",
       "      <th>_merge</th>\n",
       "    </tr>\n",
       "  </thead>\n",
       "  <tbody>\n",
       "    <tr>\n",
       "      <th>0</th>\n",
       "      <td>BFD29218AB271154</td>\n",
       "      <td>electric_bike</td>\n",
       "      <td>2022-01-21 13:13:43.392</td>\n",
       "      <td>2022-01-21 13:22:31.463</td>\n",
       "      <td>West End Ave &amp; W 107 St</td>\n",
       "      <td>7650.05</td>\n",
       "      <td>Mt Morris Park W &amp; W 120 St</td>\n",
       "      <td>7685.14</td>\n",
       "      <td>40.802117</td>\n",
       "      <td>-73.968181</td>\n",
       "      <td>40.804038</td>\n",
       "      <td>-73.945925</td>\n",
       "      <td>member</td>\n",
       "      <td>2022-01-21</td>\n",
       "      <td>-6.0</td>\n",
       "      <td>both</td>\n",
       "    </tr>\n",
       "    <tr>\n",
       "      <th>1</th>\n",
       "      <td>7C953F2FD7BE1302</td>\n",
       "      <td>classic_bike</td>\n",
       "      <td>2022-01-10 11:30:54.162</td>\n",
       "      <td>2022-01-10 11:41:43.422</td>\n",
       "      <td>4 Ave &amp; 3 St</td>\n",
       "      <td>4028.04</td>\n",
       "      <td>Boerum Pl\\t&amp; Pacific St</td>\n",
       "      <td>4488.09</td>\n",
       "      <td>40.673746</td>\n",
       "      <td>-73.985649</td>\n",
       "      <td>40.688489</td>\n",
       "      <td>-73.991160</td>\n",
       "      <td>member</td>\n",
       "      <td>2022-01-10</td>\n",
       "      <td>1.6</td>\n",
       "      <td>both</td>\n",
       "    </tr>\n",
       "    <tr>\n",
       "      <th>2</th>\n",
       "      <td>95893ABD40CED4B8</td>\n",
       "      <td>electric_bike</td>\n",
       "      <td>2022-01-26 10:52:43.096</td>\n",
       "      <td>2022-01-26 11:06:35.227</td>\n",
       "      <td>1 Ave &amp; E 62 St</td>\n",
       "      <td>6753.08</td>\n",
       "      <td>5 Ave &amp; E 29 St</td>\n",
       "      <td>6248.06</td>\n",
       "      <td>40.761227</td>\n",
       "      <td>-73.960940</td>\n",
       "      <td>40.745168</td>\n",
       "      <td>-73.986831</td>\n",
       "      <td>member</td>\n",
       "      <td>2022-01-26</td>\n",
       "      <td>-2.3</td>\n",
       "      <td>both</td>\n",
       "    </tr>\n",
       "    <tr>\n",
       "      <th>3</th>\n",
       "      <td>F853B50772137378</td>\n",
       "      <td>classic_bike</td>\n",
       "      <td>2022-01-03 08:35:48.247</td>\n",
       "      <td>2022-01-03 09:10:50.475</td>\n",
       "      <td>2 Ave &amp; E 96 St</td>\n",
       "      <td>7338.02</td>\n",
       "      <td>5 Ave &amp; E 29 St</td>\n",
       "      <td>6248.06</td>\n",
       "      <td>40.783964</td>\n",
       "      <td>-73.947167</td>\n",
       "      <td>40.745168</td>\n",
       "      <td>-73.986831</td>\n",
       "      <td>member</td>\n",
       "      <td>2022-01-03</td>\n",
       "      <td>1.4</td>\n",
       "      <td>both</td>\n",
       "    </tr>\n",
       "    <tr>\n",
       "      <th>4</th>\n",
       "      <td>7590ADF834797B4B</td>\n",
       "      <td>classic_bike</td>\n",
       "      <td>2022-01-22 14:14:23.043</td>\n",
       "      <td>2022-01-22 14:34:57.474</td>\n",
       "      <td>6 Ave &amp; W 34 St</td>\n",
       "      <td>6364.10</td>\n",
       "      <td>5 Ave &amp; E 29 St</td>\n",
       "      <td>6248.06</td>\n",
       "      <td>40.749640</td>\n",
       "      <td>-73.988050</td>\n",
       "      <td>40.745168</td>\n",
       "      <td>-73.986831</td>\n",
       "      <td>member</td>\n",
       "      <td>2022-01-22</td>\n",
       "      <td>-5.9</td>\n",
       "      <td>both</td>\n",
       "    </tr>\n",
       "  </tbody>\n",
       "</table>\n",
       "</div>"
      ],
      "text/plain": [
       "            ride_id  rideable_type              started_at  \\\n",
       "0  BFD29218AB271154  electric_bike 2022-01-21 13:13:43.392   \n",
       "1  7C953F2FD7BE1302   classic_bike 2022-01-10 11:30:54.162   \n",
       "2  95893ABD40CED4B8  electric_bike 2022-01-26 10:52:43.096   \n",
       "3  F853B50772137378   classic_bike 2022-01-03 08:35:48.247   \n",
       "4  7590ADF834797B4B   classic_bike 2022-01-22 14:14:23.043   \n",
       "\n",
       "                  ended_at       start_station_name start_station_id  \\\n",
       "0  2022-01-21 13:22:31.463  West End Ave & W 107 St          7650.05   \n",
       "1  2022-01-10 11:41:43.422             4 Ave & 3 St          4028.04   \n",
       "2  2022-01-26 11:06:35.227          1 Ave & E 62 St          6753.08   \n",
       "3  2022-01-03 09:10:50.475          2 Ave & E 96 St          7338.02   \n",
       "4  2022-01-22 14:34:57.474          6 Ave & W 34 St          6364.10   \n",
       "\n",
       "              end_station_name end_station_id  start_lat  start_lng  \\\n",
       "0  Mt Morris Park W & W 120 St        7685.14  40.802117 -73.968181   \n",
       "1      Boerum Pl\\t& Pacific St        4488.09  40.673746 -73.985649   \n",
       "2              5 Ave & E 29 St        6248.06  40.761227 -73.960940   \n",
       "3              5 Ave & E 29 St        6248.06  40.783964 -73.947167   \n",
       "4              5 Ave & E 29 St        6248.06  40.749640 -73.988050   \n",
       "\n",
       "     end_lat    end_lng member_casual       date  avgTemp _merge  \n",
       "0  40.804038 -73.945925        member 2022-01-21     -6.0   both  \n",
       "1  40.688489 -73.991160        member 2022-01-10      1.6   both  \n",
       "2  40.745168 -73.986831        member 2022-01-26     -2.3   both  \n",
       "3  40.745168 -73.986831        member 2022-01-03      1.4   both  \n",
       "4  40.745168 -73.986831        member 2022-01-22     -5.9   both  "
      ]
     },
     "execution_count": 8,
     "metadata": {},
     "output_type": "execute_result"
    }
   ],
   "source": [
    "df.head()"
   ]
  },
  {
   "cell_type": "code",
   "execution_count": 9,
   "id": "8dace54b-ccaa-4663-b9c1-4cc834e9f515",
   "metadata": {},
   "outputs": [
    {
     "data": {
      "text/plain": [
       "ride_id                       object\n",
       "rideable_type                 object\n",
       "started_at            datetime64[ns]\n",
       "ended_at                      object\n",
       "start_station_name            object\n",
       "start_station_id              object\n",
       "end_station_name              object\n",
       "end_station_id                object\n",
       "start_lat                    float64\n",
       "start_lng                    float64\n",
       "end_lat                      float64\n",
       "end_lng                      float64\n",
       "member_casual                 object\n",
       "date                  datetime64[ns]\n",
       "avgTemp                      float64\n",
       "_merge                      category\n",
       "dtype: object"
      ]
     },
     "execution_count": 9,
     "metadata": {},
     "output_type": "execute_result"
    }
   ],
   "source": [
    "df.dtypes"
   ]
  },
  {
   "cell_type": "markdown",
   "id": "70377457-6a10-43ae-99f5-029ea68b8c7e",
   "metadata": {},
   "source": [
    "## Data Wragling:"
   ]
  },
  {
   "cell_type": "markdown",
   "id": "fd91e3a4-981f-43a1-b26d-7ae40db62081",
   "metadata": {},
   "source": [
    "### Data Cleaning:"
   ]
  },
  {
   "cell_type": "code",
   "execution_count": 12,
   "id": "4ce03f41-07fb-4028-ae70-67b69b148ba0",
   "metadata": {},
   "outputs": [],
   "source": [
    "#Drop the merge flag\n",
    "df.drop(columns = {'_merge'}, inplace = True)"
   ]
  },
  {
   "cell_type": "code",
   "execution_count": 13,
   "id": "f833abaf-0bcf-41b4-a8aa-4a5ca8540a45",
   "metadata": {},
   "outputs": [],
   "source": [
    "#optimizing Memory Usage:\n",
    "df['rideable_type'] = df['rideable_type'].astype('category')\n",
    "df['ended_at'] = pd.to_datetime(df['ended_at'], errors='coerce')\n",
    "df['start_station_name'] = df['start_station_name'].astype('category')\n",
    "df['start_station_id'] = df['start_station_id'].astype('category')\n",
    "df['end_station_name'] = df['end_station_name'].astype('category')\n",
    "df['end_station_id'] = df['end_station_id'].astype('category')\n",
    "df['start_lat'] = df['start_lat'].astype('float32')\n",
    "df['start_lng'] = df['start_lng'].astype('float32')\n",
    "df['end_lat'] = df['end_lat'].astype('float32')\n",
    "df['end_lng'] = df['end_lng'].astype('float32')\n",
    "df['member_casual'] = df['member_casual'].astype('category')\n",
    "df['avgTemp'] = df['avgTemp'].astype('float32')"
   ]
  },
  {
   "cell_type": "code",
   "execution_count": 14,
   "id": "92707ff7-5d60-4993-9773-d9577f6801fe",
   "metadata": {},
   "outputs": [],
   "source": [
    "# Remove all rows with no average temperature data\n",
    "df = df[~df['avgTemp'].isna()] "
   ]
  },
  {
   "cell_type": "code",
   "execution_count": 15,
   "id": "00e39a83-67c5-49cc-8681-d8f3e950115a",
   "metadata": {},
   "outputs": [],
   "source": [
    "#CLEANING DATA VALUES\n",
    "df = df.copy()\n",
    "df['member_casual'] = df['member_casual'].str.title()"
   ]
  },
  {
   "cell_type": "code",
   "execution_count": 16,
   "id": "ed97f890-6e78-489d-9db7-a5aeeb0031de",
   "metadata": {},
   "outputs": [],
   "source": [
    "df['rideable_type'] = df['rideable_type'].replace({'electric_bike':'Electric Bike', 'classic_bike':'Classic Bike'})"
   ]
  },
  {
   "cell_type": "markdown",
   "id": "d6ead422-3302-420b-b7fa-01c35228d5bc",
   "metadata": {},
   "source": [
    "### CALCULATING TRIP DURATION"
   ]
  },
  {
   "cell_type": "code",
   "execution_count": 18,
   "id": "96c0d7a0-c87b-496a-ac36-33653ae35cbd",
   "metadata": {},
   "outputs": [],
   "source": [
    "%%capture\n",
    "\n",
    "# Make sure both the start and end time variables are datetime\n",
    "df[['started_at','ended_at']] = df[['started_at','ended_at']].apply(pd.to_datetime)"
   ]
  },
  {
   "cell_type": "code",
   "execution_count": 19,
   "id": "c6d67b18-407f-4cc7-bdb3-7a01f24faf5f",
   "metadata": {},
   "outputs": [],
   "source": [
    "%%capture\n",
    "\n",
    "# Create a new column that calculates trip duration in seconds\n",
    "df['trip_duration'] = (df['ended_at'] - df['started_at']).dt.seconds"
   ]
  },
  {
   "cell_type": "markdown",
   "id": "620b22d9-0c66-4a3b-b817-8919e8804a27",
   "metadata": {},
   "source": [
    "### ISOLATING THE MONTH AND SEASON\n"
   ]
  },
  {
   "cell_type": "code",
   "execution_count": 21,
   "id": "2aa0e9d3-a834-4333-956b-4f1797aec317",
   "metadata": {},
   "outputs": [],
   "source": [
    "df['date'] = pd.to_datetime(df['date'])\n",
    "df['month'] = df['date'].dt.month"
   ]
  },
  {
   "cell_type": "code",
   "execution_count": 22,
   "id": "9f04af1e-de43-4f67-bffe-a9f61e4a0be9",
   "metadata": {},
   "outputs": [],
   "source": [
    "df['season'] = df['month'].apply(lambda x: 'Winter' if x in [12, 1, 2]\n",
    "                                            else 'Spring' if x in [3, 4, 5]\n",
    "                                            else 'Summer' if x in [6, 7, 8]\n",
    "                                            else 'Fall')"
   ]
  },
  {
   "cell_type": "markdown",
   "id": "2cf21df0-03ae-4f54-a092-aef796b4a977",
   "metadata": {},
   "source": [
    "### CALCULATING TOTAL DAILY BIKE RIDES\n"
   ]
  },
  {
   "cell_type": "code",
   "execution_count": 24,
   "id": "6d8a7d68-75b9-4915-8087-d6cc6ceec88f",
   "metadata": {},
   "outputs": [
    {
     "name": "stdout",
     "output_type": "stream",
     "text": [
      "both          29838166\n",
      "left_only            0\n",
      "right_only           0\n",
      "Name: _merge, dtype: int64\n"
     ]
    }
   ],
   "source": [
    "df=df.assign(value=1)\n",
    "df_group = df.groupby('date', as_index=False).agg({'value': 'sum'})\n",
    "df_group.rename(columns = {'value':'bike_rides_daily'}, inplace = True)\n",
    "df = df.merge(df_group, on = \"date\", how = 'outer', indicator = True)\n",
    "print(df['_merge'].value_counts(dropna = False))"
   ]
  },
  {
   "cell_type": "markdown",
   "id": "e99c7f84-2873-43a6-a5f1-415ce8201ecf",
   "metadata": {},
   "source": [
    "### OUTLIERS:"
   ]
  },
  {
   "cell_type": "code",
   "execution_count": 26,
   "id": "febe2895-82a1-4987-bdf8-ae013eaac3cf",
   "metadata": {},
   "outputs": [
    {
     "name": "stdout",
     "output_type": "stream",
     "text": [
      "The interquartile range is 732.0\n"
     ]
    }
   ],
   "source": [
    "# Calculating Q1, Q3, and the interquartile range\n",
    "Q1 = df['trip_duration'].quantile(0.25)\n",
    "Q3 = df['trip_duration'].quantile(0.75)\n",
    "IQR = Q3 - Q1\n",
    "print('The interquartile range is ' + str(IQR))"
   ]
  },
  {
   "cell_type": "code",
   "execution_count": 27,
   "id": "5d824ad4-ae8f-440a-9d57-fb73aff3df49",
   "metadata": {},
   "outputs": [],
   "source": [
    "# Subsetting the dataset to count the number of outliers\n",
    "outliers = df['trip_duration'][df['trip_duration'] > (Q3 + 1.5 * IQR)]\n",
    "num_outliers = len(outliers)\n",
    "max_outlier = outliers.max()\n",
    "min_outlier = outliers.min()"
   ]
  },
  {
   "cell_type": "code",
   "execution_count": 28,
   "id": "419974df-8801-4763-b783-1c57de70d9b1",
   "metadata": {},
   "outputs": [
    {
     "name": "stdout",
     "output_type": "stream",
     "text": [
      "Number of outliers: 1883666\n",
      "Max outlier value: 86399\n",
      "Min outlier value: 2178\n"
     ]
    }
   ],
   "source": [
    "# Displaying the results\n",
    "print(f'Number of outliers: {num_outliers}')\n",
    "print(f'Max outlier value: {max_outlier}')\n",
    "print(f'Min outlier value: {min_outlier}')"
   ]
  },
  {
   "cell_type": "code",
   "execution_count": 29,
   "id": "019ee0ee-f15b-4685-ae25-e7696721a5ba",
   "metadata": {},
   "outputs": [
    {
     "name": "stdout",
     "output_type": "stream",
     "text": [
      "6.31% of the trip durations are outliers\n"
     ]
    }
   ],
   "source": [
    "# Calculating the percentage of outliers\n",
    "total_trips = len(df)\n",
    "outlier_percentage = (num_outliers * 100) / total_trips\n",
    "print(f'{outlier_percentage:.2f}% of the trip durations are outliers')"
   ]
  },
  {
   "cell_type": "code",
   "execution_count": 30,
   "id": "13a7b85f-39aa-4093-8620-d2185cc86706",
   "metadata": {},
   "outputs": [
    {
     "data": {
      "image/png": "[encoded data removed]",
      "text/plain": [
       "<Figure size 1000x600 with 1 Axes>"
      ]
     },
     "metadata": {},
     "output_type": "display_data"
    }
   ],
   "source": [
    "# Apply log transformation\n",
    "df['log_trip_duration'] = np.log1p(df['trip_duration'])  # log1p handles zero values safely\n",
    "\n",
    "# Visualize the transformed data\n",
    "plt.figure(figsize=(10, 6))\n",
    "plt.hist(df['log_trip_duration'], bins=50, color='lightcoral', edgecolor='black')\n",
    "plt.title('Histogram of Log-Transformed Trip Duration')\n",
    "plt.xlabel('Log Trip Duration')\n",
    "plt.ylabel('Frequency')\n",
    "plt.show()"
   ]
  },
  {
   "cell_type": "code",
   "execution_count": 31,
   "id": "fbbea149-c3bf-446a-b8e5-fd12d8b14558",
   "metadata": {},
   "outputs": [
    {
     "data": {
      "image/png": "[encoded data removed]",
      "text/plain": [
       "<Figure size 1000x600 with 1 Axes>"
      ]
     },
     "metadata": {},
     "output_type": "display_data"
    }
   ],
   "source": [
    "# Define the upper limit for outliers\n",
    "upper_limit = Q3 + 1.5 * IQR\n",
    "\n",
    "# Cap the values above the upper limit\n",
    "df['trip_duration_capped'] = df['trip_duration'].clip(upper=upper_limit)\n",
    "\n",
    "# Visualize the capped data\n",
    "plt.figure(figsize=(10, 6))\n",
    "plt.hist(df['trip_duration_capped'], bins=50, color='mediumseagreen', edgecolor='black')\n",
    "plt.title('Histogram of Capped Trip Duration')\n",
    "plt.xlabel('Capped Trip Duration')\n",
    "plt.ylabel('Frequency')\n",
    "plt.show()"
   ]
  },
  {
   "cell_type": "code",
   "execution_count": 32,
   "id": "508b1183-5d13-4270-8cce-6acb08d1e435",
   "metadata": {},
   "outputs": [
    {
     "name": "stdout",
     "output_type": "stream",
     "text": [
      "0.00% of the trip durations are still outliers (after capping).\n"
     ]
    }
   ],
   "source": [
    "# Recalculate outliers after capping\n",
    "outliers_after_capping = df['trip_duration_capped'][df['trip_duration_capped'] > upper_limit]\n",
    "\n",
    "# Percentage of outliers after capping\n",
    "outlier_percentage_after_capping = (len(outliers_after_capping) * 100) / len(df)\n",
    "print(f'{outlier_percentage_after_capping:.2f}% of the trip durations are still outliers (after capping).')"
   ]
  },
  {
   "cell_type": "markdown",
   "id": "72a8a458-18cd-41df-9512-fc77d1ebb955",
   "metadata": {},
   "source": [
    "The capping successfully adjusted all extreme values within the acceptable range, ensuring no data distortion."
   ]
  },
  {
   "cell_type": "code",
   "execution_count": 34,
   "id": "8df1e976-31f7-4d7b-a959-252570f1ac6d",
   "metadata": {},
   "outputs": [],
   "source": [
    "df['trip_duration'] = df['trip_duration_capped']\n",
    "df.drop(columns=['trip_duration_capped'], inplace=True)  #to cleanup"
   ]
  },
  {
   "cell_type": "code",
   "execution_count": 35,
   "id": "d543d2bd-67cd-4bdd-8547-23432e701e09",
   "metadata": {},
   "outputs": [],
   "source": [
    "df_final = df.drop(columns = '_merge')"
   ]
  },
  {
   "cell_type": "markdown",
   "id": "4d5ecdc7-11c0-4d86-8e3c-aff565d646d7",
   "metadata": {},
   "source": [
    "## Final Check: "
   ]
  },
  {
   "cell_type": "code",
   "execution_count": 37,
   "id": "41c8a594-9c34-4245-aac8-1fcaa2f23738",
   "metadata": {},
   "outputs": [
    {
     "data": {
      "text/plain": [
       "(29838166, 21)"
      ]
     },
     "execution_count": 37,
     "metadata": {},
     "output_type": "execute_result"
    }
   ],
   "source": [
    "df_final.shape"
   ]
  },
  {
   "cell_type": "code",
   "execution_count": 38,
   "id": "2e28afda-a23f-4915-9764-47ba31d22939",
   "metadata": {},
   "outputs": [
    {
     "data": {
      "text/plain": [
       "Index(['ride_id', 'rideable_type', 'started_at', 'ended_at',\n",
       "       'start_station_name', 'start_station_id', 'end_station_name',\n",
       "       'end_station_id', 'start_lat', 'start_lng', 'end_lat', 'end_lng',\n",
       "       'member_casual', 'date', 'avgTemp', 'trip_duration', 'month', 'season',\n",
       "       'value', 'bike_rides_daily', 'log_trip_duration'],\n",
       "      dtype='object')"
      ]
     },
     "execution_count": 38,
     "metadata": {},
     "output_type": "execute_result"
    }
   ],
   "source": [
    "df_final.columns"
   ]
  },
  {
   "cell_type": "code",
   "execution_count": 39,
   "id": "3bca5b7f-9c9e-4ae1-841d-4de5ab57f925",
   "metadata": {},
   "outputs": [
    {
     "data": {
      "text/plain": [
       "ride_id                       object\n",
       "rideable_type               category\n",
       "started_at            datetime64[ns]\n",
       "ended_at              datetime64[ns]\n",
       "start_station_name          category\n",
       "start_station_id            category\n",
       "end_station_name            category\n",
       "end_station_id              category\n",
       "start_lat                    float32\n",
       "start_lng                    float32\n",
       "end_lat                      float32\n",
       "end_lng                      float32\n",
       "member_casual                 object\n",
       "date                  datetime64[ns]\n",
       "avgTemp                      float32\n",
       "trip_duration                  int64\n",
       "month                          int64\n",
       "season                        object\n",
       "value                          int64\n",
       "bike_rides_daily               int64\n",
       "log_trip_duration            float64\n",
       "dtype: object"
      ]
     },
     "execution_count": 39,
     "metadata": {},
     "output_type": "execute_result"
    }
   ],
   "source": [
    "df_final.dtypes\n"
   ]
  },
  {
   "cell_type": "code",
   "execution_count": 40,
   "id": "aabd1dbe-2325-494c-b1ac-3e3e3d9d2808",
   "metadata": {},
   "outputs": [
    {
     "data": {
      "text/html": [
       "<div>\n",
       "<style scoped>\n",
       "    .dataframe tbody tr th:only-of-type {\n",
       "        vertical-align: middle;\n",
       "    }\n",
       "\n",
       "    .dataframe tbody tr th {\n",
       "        vertical-align: top;\n",
       "    }\n",
       "\n",
       "    .dataframe thead th {\n",
       "        text-align: right;\n",
       "    }\n",
       "</style>\n",
       "<table border=\"1\" class=\"dataframe\">\n",
       "  <thead>\n",
       "    <tr style=\"text-align: right;\">\n",
       "      <th></th>\n",
       "      <th>ride_id</th>\n",
       "      <th>rideable_type</th>\n",
       "      <th>started_at</th>\n",
       "      <th>ended_at</th>\n",
       "      <th>start_station_name</th>\n",
       "      <th>start_station_id</th>\n",
       "      <th>end_station_name</th>\n",
       "      <th>end_station_id</th>\n",
       "      <th>start_lat</th>\n",
       "      <th>start_lng</th>\n",
       "      <th>...</th>\n",
       "      <th>end_lng</th>\n",
       "      <th>member_casual</th>\n",
       "      <th>date</th>\n",
       "      <th>avgTemp</th>\n",
       "      <th>trip_duration</th>\n",
       "      <th>month</th>\n",
       "      <th>season</th>\n",
       "      <th>value</th>\n",
       "      <th>bike_rides_daily</th>\n",
       "      <th>log_trip_duration</th>\n",
       "    </tr>\n",
       "  </thead>\n",
       "  <tbody>\n",
       "    <tr>\n",
       "      <th>0</th>\n",
       "      <td>BFD29218AB271154</td>\n",
       "      <td>Electric Bike</td>\n",
       "      <td>2022-01-21 13:13:43.392</td>\n",
       "      <td>2022-01-21 13:22:31.463</td>\n",
       "      <td>West End Ave &amp; W 107 St</td>\n",
       "      <td>7650.05</td>\n",
       "      <td>Mt Morris Park W &amp; W 120 St</td>\n",
       "      <td>7685.14</td>\n",
       "      <td>40.802116</td>\n",
       "      <td>-73.968178</td>\n",
       "      <td>...</td>\n",
       "      <td>-73.945923</td>\n",
       "      <td>Member</td>\n",
       "      <td>2022-01-21</td>\n",
       "      <td>-6.0</td>\n",
       "      <td>528</td>\n",
       "      <td>1</td>\n",
       "      <td>Winter</td>\n",
       "      <td>1</td>\n",
       "      <td>33598</td>\n",
       "      <td>6.270988</td>\n",
       "    </tr>\n",
       "    <tr>\n",
       "      <th>1</th>\n",
       "      <td>096AE4C21473D1D6</td>\n",
       "      <td>Electric Bike</td>\n",
       "      <td>2022-01-21 20:32:55.968</td>\n",
       "      <td>2022-01-21 20:35:20.227</td>\n",
       "      <td>Riverside Dr &amp; W 91 St</td>\n",
       "      <td>7524.16</td>\n",
       "      <td>Riverside Dr &amp; W 82 St</td>\n",
       "      <td>7388.10</td>\n",
       "      <td>40.793137</td>\n",
       "      <td>-73.977005</td>\n",
       "      <td>...</td>\n",
       "      <td>-73.981277</td>\n",
       "      <td>Member</td>\n",
       "      <td>2022-01-21</td>\n",
       "      <td>-6.0</td>\n",
       "      <td>144</td>\n",
       "      <td>1</td>\n",
       "      <td>Winter</td>\n",
       "      <td>1</td>\n",
       "      <td>33598</td>\n",
       "      <td>4.976734</td>\n",
       "    </tr>\n",
       "    <tr>\n",
       "      <th>2</th>\n",
       "      <td>B3996D7CAEDF7B92</td>\n",
       "      <td>Classic Bike</td>\n",
       "      <td>2022-01-21 09:14:04.856</td>\n",
       "      <td>2022-01-21 09:18:53.000</td>\n",
       "      <td>Henry St &amp; Atlantic Ave</td>\n",
       "      <td>4531.05</td>\n",
       "      <td>Clinton St &amp; Tillary St</td>\n",
       "      <td>4748.07</td>\n",
       "      <td>40.690891</td>\n",
       "      <td>-73.996124</td>\n",
       "      <td>...</td>\n",
       "      <td>-73.991417</td>\n",
       "      <td>Member</td>\n",
       "      <td>2022-01-21</td>\n",
       "      <td>-6.0</td>\n",
       "      <td>288</td>\n",
       "      <td>1</td>\n",
       "      <td>Winter</td>\n",
       "      <td>1</td>\n",
       "      <td>33598</td>\n",
       "      <td>5.666427</td>\n",
       "    </tr>\n",
       "    <tr>\n",
       "      <th>3</th>\n",
       "      <td>83AE874442FFF355</td>\n",
       "      <td>Electric Bike</td>\n",
       "      <td>2022-01-21 17:30:27.244</td>\n",
       "      <td>2022-01-21 17:36:00.300</td>\n",
       "      <td>Cleveland Pl &amp; Spring St</td>\n",
       "      <td>5492.05</td>\n",
       "      <td>Rivington St &amp; Ridge St</td>\n",
       "      <td>5406.02</td>\n",
       "      <td>40.722103</td>\n",
       "      <td>-73.997246</td>\n",
       "      <td>...</td>\n",
       "      <td>-73.983299</td>\n",
       "      <td>Member</td>\n",
       "      <td>2022-01-21</td>\n",
       "      <td>-6.0</td>\n",
       "      <td>333</td>\n",
       "      <td>1</td>\n",
       "      <td>Winter</td>\n",
       "      <td>1</td>\n",
       "      <td>33598</td>\n",
       "      <td>5.811141</td>\n",
       "    </tr>\n",
       "    <tr>\n",
       "      <th>4</th>\n",
       "      <td>8B1950B6ED5BD50A</td>\n",
       "      <td>Electric Bike</td>\n",
       "      <td>2022-01-21 10:12:57.242</td>\n",
       "      <td>2022-01-21 10:31:37.016</td>\n",
       "      <td>1 Ave &amp; E 62 St</td>\n",
       "      <td>6753.08</td>\n",
       "      <td>Allen St &amp; Rivington St</td>\n",
       "      <td>5414.06</td>\n",
       "      <td>40.761227</td>\n",
       "      <td>-73.960938</td>\n",
       "      <td>...</td>\n",
       "      <td>-73.989975</td>\n",
       "      <td>Member</td>\n",
       "      <td>2022-01-21</td>\n",
       "      <td>-6.0</td>\n",
       "      <td>1119</td>\n",
       "      <td>1</td>\n",
       "      <td>Winter</td>\n",
       "      <td>1</td>\n",
       "      <td>33598</td>\n",
       "      <td>7.021084</td>\n",
       "    </tr>\n",
       "  </tbody>\n",
       "</table>\n",
       "<p>5 rows × 21 columns</p>\n",
       "</div>"
      ],
      "text/plain": [
       "            ride_id  rideable_type              started_at  \\\n",
       "0  BFD29218AB271154  Electric Bike 2022-01-21 13:13:43.392   \n",
       "1  096AE4C21473D1D6  Electric Bike 2022-01-21 20:32:55.968   \n",
       "2  B3996D7CAEDF7B92   Classic Bike 2022-01-21 09:14:04.856   \n",
       "3  83AE874442FFF355  Electric Bike 2022-01-21 17:30:27.244   \n",
       "4  8B1950B6ED5BD50A  Electric Bike 2022-01-21 10:12:57.242   \n",
       "\n",
       "                 ended_at        start_station_name start_station_id  \\\n",
       "0 2022-01-21 13:22:31.463   West End Ave & W 107 St          7650.05   \n",
       "1 2022-01-21 20:35:20.227    Riverside Dr & W 91 St          7524.16   \n",
       "2 2022-01-21 09:18:53.000   Henry St & Atlantic Ave          4531.05   \n",
       "3 2022-01-21 17:36:00.300  Cleveland Pl & Spring St          5492.05   \n",
       "4 2022-01-21 10:31:37.016           1 Ave & E 62 St          6753.08   \n",
       "\n",
       "              end_station_name end_station_id  start_lat  start_lng  ...  \\\n",
       "0  Mt Morris Park W & W 120 St        7685.14  40.802116 -73.968178  ...   \n",
       "1       Riverside Dr & W 82 St        7388.10  40.793137 -73.977005  ...   \n",
       "2      Clinton St & Tillary St        4748.07  40.690891 -73.996124  ...   \n",
       "3      Rivington St & Ridge St        5406.02  40.722103 -73.997246  ...   \n",
       "4      Allen St & Rivington St        5414.06  40.761227 -73.960938  ...   \n",
       "\n",
       "     end_lng  member_casual       date avgTemp  trip_duration  month  season  \\\n",
       "0 -73.945923         Member 2022-01-21    -6.0            528      1  Winter   \n",
       "1 -73.981277         Member 2022-01-21    -6.0            144      1  Winter   \n",
       "2 -73.991417         Member 2022-01-21    -6.0            288      1  Winter   \n",
       "3 -73.983299         Member 2022-01-21    -6.0            333      1  Winter   \n",
       "4 -73.989975         Member 2022-01-21    -6.0           1119      1  Winter   \n",
       "\n",
       "  value  bike_rides_daily  log_trip_duration  \n",
       "0     1             33598           6.270988  \n",
       "1     1             33598           4.976734  \n",
       "2     1             33598           5.666427  \n",
       "3     1             33598           5.811141  \n",
       "4     1             33598           7.021084  \n",
       "\n",
       "[5 rows x 21 columns]"
      ]
     },
     "execution_count": 40,
     "metadata": {},
     "output_type": "execute_result"
    }
   ],
   "source": [
    "df_final.head()"
   ]
  },
  {
   "cell_type": "code",
   "execution_count": 47,
   "id": "d65e3f8c-1f31-47aa-b937-034d1639dda4",
   "metadata": {},
   "outputs": [],
   "source": [
    "# Define destination path\n",
    "destpath = \"../Citibike_Project/Data/Prepared_data\"\n",
    "\n",
    "# Export the DataFrame to a pickle file\n",
    "df_final.to_pickle(os.path.join(destpath, 'cleaned_nyc_bike_weather_data.pkl'))"
   ]
  },
  {
   "cell_type": "code",
   "execution_count": null,
   "id": "69f8a21e-85cd-42c5-b3ca-9d96b3f272de",
   "metadata": {},
   "outputs": [],
   "source": []
  }
 ],
 "metadata": {
  "kernelspec": {
   "display_name": "Python [conda env:anaconda3-venv_task3]",
   "language": "python",
   "name": "conda-env-anaconda3-venv_task3-py"
  },
  "language_info": {
   "codemirror_mode": {
    "name": "ipython",
    "version": 3
   },
   "file_extension": ".py",
   "mimetype": "text/x-python",
   "name": "python",
   "nbconvert_exporter": "python",
   "pygments_lexer": "ipython3",
   "version": "3.10.16"
  }
 },
 "nbformat": 4,
 "nbformat_minor": 5
}
