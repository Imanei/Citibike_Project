{
 "cells": [
  {
   "cell_type": "markdown",
   "id": "ae65537f-ea24-4e07-8c2f-9b88830af173",
   "metadata": {},
   "source": [
    "### This script contains the following:\n",
    "    1. Importing Libraries\n",
    "    2. Importing Data\n",
    "    3. Get Weather Data Using NOAA's API\n",
    "    4. Wrangling the Data\n",
    "      4.1 Wrangle Weather Data\n",
    "      4.2 Wrangle Bike Rental Data\n",
    "    5. Merge the weather data with the New York CitiBike data set\n",
    "    6. Export the Data\n",
    "  "
   ]
  },
  {
   "cell_type": "markdown",
   "id": "3e8a94ca-24f2-4b9b-83c9-fb924481bf7e",
   "metadata": {},
   "source": [
    "## 1. Importing Libraries"
   ]
  },
  {
   "cell_type": "code",
   "execution_count": 3,
   "id": "e8878b29-a5f7-419a-bb2e-1f6ea8addb61",
   "metadata": {},
   "outputs": [],
   "source": [
    "import pandas as pd \n",
    "import numpy as np\n",
    "import os \n",
    "import requests\n",
    "import json\n",
    "import seaborn as sns\n",
    "from datetime import datetime"
   ]
  },
  {
   "cell_type": "markdown",
   "id": "9bb5c672-89bf-43c9-84f9-d5a57f1d0846",
   "metadata": {},
   "source": [
    "## 2. Importing Data"
   ]
  },
  {
   "cell_type": "code",
   "execution_count": 5,
   "id": "c22f33b5-0b13-442f-815f-1f02fa653366",
   "metadata": {},
   "outputs": [],
   "source": [
    "# Create a list with all files in the folder using a list compehension\n",
    "folderpath = \"./Data/Original_data\"\n",
    "filepaths  = [os.path.join(folderpath, name) for name in os.listdir(folderpath)]"
   ]
  },
  {
   "cell_type": "code",
   "execution_count": 6,
   "id": "bfbae9af-9cb5-4f03-8297-50301238f9a6",
   "metadata": {},
   "outputs": [],
   "source": [
    "# Read and concatenate all files simultaneously\n",
    "df = pd.concat((pd.read_csv(f, low_memory=False, encoding=\"utf-8\") for f in filepaths), ignore_index = True)"
   ]
  },
  {
   "cell_type": "code",
   "execution_count": 7,
   "id": "e9816507-22f8-4b44-9aa5-3f5cd5d8e08a",
   "metadata": {},
   "outputs": [
    {
     "data": {
      "text/html": [
       "<div>\n",
       "<style scoped>\n",
       "    .dataframe tbody tr th:only-of-type {\n",
       "        vertical-align: middle;\n",
       "    }\n",
       "\n",
       "    .dataframe tbody tr th {\n",
       "        vertical-align: top;\n",
       "    }\n",
       "\n",
       "    .dataframe thead th {\n",
       "        text-align: right;\n",
       "    }\n",
       "</style>\n",
       "<table border=\"1\" class=\"dataframe\">\n",
       "  <thead>\n",
       "    <tr style=\"text-align: right;\">\n",
       "      <th></th>\n",
       "      <th>ride_id</th>\n",
       "      <th>rideable_type</th>\n",
       "      <th>started_at</th>\n",
       "      <th>ended_at</th>\n",
       "      <th>start_station_name</th>\n",
       "      <th>start_station_id</th>\n",
       "      <th>end_station_name</th>\n",
       "      <th>end_station_id</th>\n",
       "      <th>start_lat</th>\n",
       "      <th>start_lng</th>\n",
       "      <th>end_lat</th>\n",
       "      <th>end_lng</th>\n",
       "      <th>member_casual</th>\n",
       "    </tr>\n",
       "  </thead>\n",
       "  <tbody>\n",
       "    <tr>\n",
       "      <th>0</th>\n",
       "      <td>BFD29218AB271154</td>\n",
       "      <td>electric_bike</td>\n",
       "      <td>2022-01-21 13:13:43.392</td>\n",
       "      <td>2022-01-21 13:22:31.463</td>\n",
       "      <td>West End Ave &amp; W 107 St</td>\n",
       "      <td>7650.05</td>\n",
       "      <td>Mt Morris Park W &amp; W 120 St</td>\n",
       "      <td>7685.14</td>\n",
       "      <td>40.802117</td>\n",
       "      <td>-73.968181</td>\n",
       "      <td>40.804038</td>\n",
       "      <td>-73.945925</td>\n",
       "      <td>member</td>\n",
       "    </tr>\n",
       "    <tr>\n",
       "      <th>1</th>\n",
       "      <td>7C953F2FD7BE1302</td>\n",
       "      <td>classic_bike</td>\n",
       "      <td>2022-01-10 11:30:54.162</td>\n",
       "      <td>2022-01-10 11:41:43.422</td>\n",
       "      <td>4 Ave &amp; 3 St</td>\n",
       "      <td>4028.04</td>\n",
       "      <td>Boerum Pl\\t&amp; Pacific St</td>\n",
       "      <td>4488.09</td>\n",
       "      <td>40.673746</td>\n",
       "      <td>-73.985649</td>\n",
       "      <td>40.688489</td>\n",
       "      <td>-73.991160</td>\n",
       "      <td>member</td>\n",
       "    </tr>\n",
       "    <tr>\n",
       "      <th>2</th>\n",
       "      <td>95893ABD40CED4B8</td>\n",
       "      <td>electric_bike</td>\n",
       "      <td>2022-01-26 10:52:43.096</td>\n",
       "      <td>2022-01-26 11:06:35.227</td>\n",
       "      <td>1 Ave &amp; E 62 St</td>\n",
       "      <td>6753.08</td>\n",
       "      <td>5 Ave &amp; E 29 St</td>\n",
       "      <td>6248.06</td>\n",
       "      <td>40.761227</td>\n",
       "      <td>-73.960940</td>\n",
       "      <td>40.745168</td>\n",
       "      <td>-73.986831</td>\n",
       "      <td>member</td>\n",
       "    </tr>\n",
       "    <tr>\n",
       "      <th>3</th>\n",
       "      <td>F853B50772137378</td>\n",
       "      <td>classic_bike</td>\n",
       "      <td>2022-01-03 08:35:48.247</td>\n",
       "      <td>2022-01-03 09:10:50.475</td>\n",
       "      <td>2 Ave &amp; E 96 St</td>\n",
       "      <td>7338.02</td>\n",
       "      <td>5 Ave &amp; E 29 St</td>\n",
       "      <td>6248.06</td>\n",
       "      <td>40.783964</td>\n",
       "      <td>-73.947167</td>\n",
       "      <td>40.745168</td>\n",
       "      <td>-73.986831</td>\n",
       "      <td>member</td>\n",
       "    </tr>\n",
       "    <tr>\n",
       "      <th>4</th>\n",
       "      <td>7590ADF834797B4B</td>\n",
       "      <td>classic_bike</td>\n",
       "      <td>2022-01-22 14:14:23.043</td>\n",
       "      <td>2022-01-22 14:34:57.474</td>\n",
       "      <td>6 Ave &amp; W 34 St</td>\n",
       "      <td>6364.10</td>\n",
       "      <td>5 Ave &amp; E 29 St</td>\n",
       "      <td>6248.06</td>\n",
       "      <td>40.749640</td>\n",
       "      <td>-73.988050</td>\n",
       "      <td>40.745168</td>\n",
       "      <td>-73.986831</td>\n",
       "      <td>member</td>\n",
       "    </tr>\n",
       "  </tbody>\n",
       "</table>\n",
       "</div>"
      ],
      "text/plain": [
       "            ride_id  rideable_type               started_at  \\\n",
       "0  BFD29218AB271154  electric_bike  2022-01-21 13:13:43.392   \n",
       "1  7C953F2FD7BE1302   classic_bike  2022-01-10 11:30:54.162   \n",
       "2  95893ABD40CED4B8  electric_bike  2022-01-26 10:52:43.096   \n",
       "3  F853B50772137378   classic_bike  2022-01-03 08:35:48.247   \n",
       "4  7590ADF834797B4B   classic_bike  2022-01-22 14:14:23.043   \n",
       "\n",
       "                  ended_at       start_station_name start_station_id  \\\n",
       "0  2022-01-21 13:22:31.463  West End Ave & W 107 St          7650.05   \n",
       "1  2022-01-10 11:41:43.422             4 Ave & 3 St          4028.04   \n",
       "2  2022-01-26 11:06:35.227          1 Ave & E 62 St          6753.08   \n",
       "3  2022-01-03 09:10:50.475          2 Ave & E 96 St          7338.02   \n",
       "4  2022-01-22 14:34:57.474          6 Ave & W 34 St          6364.10   \n",
       "\n",
       "              end_station_name end_station_id  start_lat  start_lng  \\\n",
       "0  Mt Morris Park W & W 120 St        7685.14  40.802117 -73.968181   \n",
       "1      Boerum Pl\\t& Pacific St        4488.09  40.673746 -73.985649   \n",
       "2              5 Ave & E 29 St        6248.06  40.761227 -73.960940   \n",
       "3              5 Ave & E 29 St        6248.06  40.783964 -73.947167   \n",
       "4              5 Ave & E 29 St        6248.06  40.749640 -73.988050   \n",
       "\n",
       "     end_lat    end_lng member_casual  \n",
       "0  40.804038 -73.945925        member  \n",
       "1  40.688489 -73.991160        member  \n",
       "2  40.745168 -73.986831        member  \n",
       "3  40.745168 -73.986831        member  \n",
       "4  40.745168 -73.986831        member  "
      ]
     },
     "execution_count": 7,
     "metadata": {},
     "output_type": "execute_result"
    }
   ],
   "source": [
    "df.head()"
   ]
  },
  {
   "cell_type": "code",
   "execution_count": 8,
   "id": "cf9118b1-273f-4753-93e3-6dd3febf9ab8",
   "metadata": {},
   "outputs": [
    {
     "data": {
      "text/plain": [
       "(29838806, 13)"
      ]
     },
     "execution_count": 8,
     "metadata": {},
     "output_type": "execute_result"
    }
   ],
   "source": [
    "df.shape"
   ]
  },
  {
   "cell_type": "markdown",
   "id": "1fe71dc8-5188-42bc-a348-2aec05dbaef3",
   "metadata": {},
   "source": [
    "We joined a total of 36 csv files with 'os.listdir(folderpath)'technique, it is both faster for the coder and faster for the machine"
   ]
  },
  {
   "cell_type": "markdown",
   "id": "73c01485-27bb-4b81-a805-69fa67afa800",
   "metadata": {},
   "source": [
    "## 3. Get Weather Data Using NOAA's API"
   ]
  },
  {
   "cell_type": "code",
   "execution_count": 11,
   "id": "9fefeabd-fd3e-4a1f-8b5b-4191b9c1d6b1",
   "metadata": {},
   "outputs": [],
   "source": [
    "# Define the NOAA token\n",
    "Token = 'rImWOAcaGgUESfzZOtKKnlVnlAuambLL'"
   ]
  },
  {
   "cell_type": "code",
   "execution_count": 12,
   "id": "6b13cd54-da74-49bb-9136-921f5d6f6f28",
   "metadata": {},
   "outputs": [],
   "source": [
    "# Get the API \n",
    "r = requests.get('https://www.ncdc.noaa.gov/cdo-web/api/v2/data?datasetid=GHCND&datatypeid=TAVG&limit=1000&stationid=GHCND:USW00014732&startdate=2022-01-01&enddate=2022-12-31', headers={'token':Token})"
   ]
  },
  {
   "cell_type": "code",
   "execution_count": 13,
   "id": "be62c3a4-d429-47e9-bb26-dda489a2daa1",
   "metadata": {},
   "outputs": [],
   "source": [
    "# Load the API response as a json\n",
    "d = json.loads(r.text)"
   ]
  },
  {
   "cell_type": "markdown",
   "id": "be120584-d45a-4eca-a03b-d01bc896ba30",
   "metadata": {},
   "source": [
    "## 4. Wrangling the Data"
   ]
  },
  {
   "cell_type": "markdown",
   "id": "5cc4bfdf-c24f-4e34-8b72-87d2be083d51",
   "metadata": {},
   "source": [
    "### 4.1 Wrangle Weather Data"
   ]
  },
  {
   "cell_type": "code",
   "execution_count": 16,
   "id": "0d761475-96cd-48ec-8943-49d25f1b0e40",
   "metadata": {},
   "outputs": [],
   "source": [
    "# Secure all items in the response that correspond to TAVG\n",
    "avg_temps = [item for item in d['results'] if item['datatype']=='TAVG']"
   ]
  },
  {
   "cell_type": "code",
   "execution_count": 17,
   "id": "c2c18942-44d1-4977-9db9-613e821acc80",
   "metadata": {},
   "outputs": [],
   "source": [
    "# Create a list of the date from all average temperature readings\n",
    "dates_temp = [item['date'] for item in avg_temps]"
   ]
  },
  {
   "cell_type": "code",
   "execution_count": 18,
   "id": "497400be-97f1-45ad-9078-8965436964f8",
   "metadata": {},
   "outputs": [],
   "source": [
    "# Create a list of the temperature from all average temperature readings\n",
    "temps = [item['value'] for item in avg_temps]"
   ]
  },
  {
   "cell_type": "code",
   "execution_count": 19,
   "id": "8ef29ca9-733c-441d-87a2-3f9ffb57f937",
   "metadata": {},
   "outputs": [],
   "source": [
    "# Initialize a dataframe\n",
    "df_temp = pd.DataFrame()"
   ]
  },
  {
   "cell_type": "code",
   "execution_count": 20,
   "id": "310f3c9c-62b9-4dc7-900b-5ea9a0728621",
   "metadata": {},
   "outputs": [],
   "source": [
    "# Create two columns in the new dataframe corresponding to the two lists\n",
    "df_temp['date'] = [datetime.strptime(d, \"%Y-%m-%dT%H:%M:%S\") for d in dates_temp] # Cast date to datetime\n",
    "df_temp['avgTemp'] = [float(v)/10.0 for v in temps] # Convert temperature from tenths of Celsius to normal Celsius"
   ]
  },
  {
   "cell_type": "code",
   "execution_count": 21,
   "id": "caf0e6d7-0ab6-4976-97e9-4e214147977b",
   "metadata": {},
   "outputs": [
    {
     "data": {
      "text/html": [
       "<div>\n",
       "<style scoped>\n",
       "    .dataframe tbody tr th:only-of-type {\n",
       "        vertical-align: middle;\n",
       "    }\n",
       "\n",
       "    .dataframe tbody tr th {\n",
       "        vertical-align: top;\n",
       "    }\n",
       "\n",
       "    .dataframe thead th {\n",
       "        text-align: right;\n",
       "    }\n",
       "</style>\n",
       "<table border=\"1\" class=\"dataframe\">\n",
       "  <thead>\n",
       "    <tr style=\"text-align: right;\">\n",
       "      <th></th>\n",
       "      <th>date</th>\n",
       "      <th>avgTemp</th>\n",
       "    </tr>\n",
       "  </thead>\n",
       "  <tbody>\n",
       "    <tr>\n",
       "      <th>360</th>\n",
       "      <td>2022-12-27</td>\n",
       "      <td>-0.7</td>\n",
       "    </tr>\n",
       "    <tr>\n",
       "      <th>361</th>\n",
       "      <td>2022-12-28</td>\n",
       "      <td>3.4</td>\n",
       "    </tr>\n",
       "    <tr>\n",
       "      <th>362</th>\n",
       "      <td>2022-12-29</td>\n",
       "      <td>6.4</td>\n",
       "    </tr>\n",
       "    <tr>\n",
       "      <th>363</th>\n",
       "      <td>2022-12-30</td>\n",
       "      <td>9.3</td>\n",
       "    </tr>\n",
       "    <tr>\n",
       "      <th>364</th>\n",
       "      <td>2022-12-31</td>\n",
       "      <td>8.2</td>\n",
       "    </tr>\n",
       "  </tbody>\n",
       "</table>\n",
       "</div>"
      ],
      "text/plain": [
       "          date  avgTemp\n",
       "360 2022-12-27     -0.7\n",
       "361 2022-12-28      3.4\n",
       "362 2022-12-29      6.4\n",
       "363 2022-12-30      9.3\n",
       "364 2022-12-31      8.2"
      ]
     },
     "execution_count": 21,
     "metadata": {},
     "output_type": "execute_result"
    }
   ],
   "source": [
    "df_temp.tail()"
   ]
  },
  {
   "cell_type": "code",
   "execution_count": 22,
   "id": "dabd3383-6e1d-441f-abc7-e7c7148f90d7",
   "metadata": {},
   "outputs": [
    {
     "data": {
      "text/plain": [
       "<Axes: xlabel='date', ylabel='avgTemp'>"
      ]
     },
     "execution_count": 22,
     "metadata": {},
     "output_type": "execute_result"
    },
    {
     "data": {
      "image/png": "[encoded data removed]",
      "text/plain": [
       "<Figure size 640x480 with 1 Axes>"
      ]
     },
     "metadata": {},
     "output_type": "display_data"
    }
   ],
   "source": [
    "# Plot temperature by date in a line plot\n",
    "sns.lineplot(data=df_temp, x=\"date\", y=\"avgTemp\")\n",
    "# Checking the data to ensure data consistency"
   ]
  },
  {
   "cell_type": "markdown",
   "id": "d8ba7960-062e-4ecb-81a4-fc6d5eb5d074",
   "metadata": {},
   "source": [
    "### 4.2 Wrangle Bike Rental Data"
   ]
  },
  {
   "cell_type": "code",
   "execution_count": 24,
   "id": "3f8d1d76-d013-4b91-a4f4-2196af2ce65e",
   "metadata": {},
   "outputs": [
    {
     "data": {
      "text/plain": [
       "ride_id                object\n",
       "rideable_type          object\n",
       "started_at             object\n",
       "ended_at               object\n",
       "start_station_name     object\n",
       "start_station_id       object\n",
       "end_station_name       object\n",
       "end_station_id         object\n",
       "start_lat             float64\n",
       "start_lng             float64\n",
       "end_lat               float64\n",
       "end_lng               float64\n",
       "member_casual          object\n",
       "dtype: object"
      ]
     },
     "execution_count": 24,
     "metadata": {},
     "output_type": "execute_result"
    }
   ],
   "source": [
    "# Check the datatypes of df\n",
    "df.dtypes"
   ]
  },
  {
   "cell_type": "code",
   "execution_count": 25,
   "id": "96c5b5a5-c07f-4b76-90fc-a351db7f8887",
   "metadata": {},
   "outputs": [],
   "source": [
    "# Convert 'started at' date to datetime\n",
    "df['started_at'] = pd.to_datetime(df['started_at'], dayfirst = False)"
   ]
  },
  {
   "cell_type": "code",
   "execution_count": 26,
   "id": "30689c1c-7ccc-4d96-9c76-03fa91443a46",
   "metadata": {},
   "outputs": [],
   "source": [
    "# Create a new column in df that matches the 'date' column df_temps\n",
    "df['date'] = pd.to_datetime(df['started_at'], format='%Y-%m-%d').dt.date \n",
    "df['date'] = pd.to_datetime(df['date'])"
   ]
  },
  {
   "cell_type": "markdown",
   "id": "d76119e2-eee9-4a03-8b60-3686fe7b2e1e",
   "metadata": {},
   "source": [
    "## 5. Merge the weather data with the New York CitiBike data set"
   ]
  },
  {
   "cell_type": "code",
   "execution_count": 28,
   "id": "17647a48-83d2-49c6-a067-9dbd334374e2",
   "metadata": {},
   "outputs": [],
   "source": [
    "# Left merge df with df_temp on the 'date' columns\n",
    "df_merged = df.merge(df_temp, how = 'left', on = 'date', indicator = True)"
   ]
  },
  {
   "cell_type": "code",
   "execution_count": 29,
   "id": "426af08f-4ed1-42a7-925b-75e17170434b",
   "metadata": {},
   "outputs": [
    {
     "data": {
      "text/plain": [
       "both          29838166\n",
       "left_only          640\n",
       "right_only           0\n",
       "Name: _merge, dtype: int64"
      ]
     },
     "execution_count": 29,
     "metadata": {},
     "output_type": "execute_result"
    }
   ],
   "source": [
    "# Check to see if it was a full match\n",
    "df_merged['_merge'].value_counts(dropna = False)"
   ]
  },
  {
   "cell_type": "code",
   "execution_count": 30,
   "id": "965c2c52-3ed1-44c1-b69f-5619c5cd1141",
   "metadata": {},
   "outputs": [],
   "source": [
    "# Subset merged dataframe to only contain the rows that didn't merge with df_temps\n",
    "df_merged_left = df_merged.loc[df_merged['_merge'] == 'left_only']"
   ]
  },
  {
   "cell_type": "code",
   "execution_count": 31,
   "id": "b1939b87-f2c5-41bc-9fd5-6b9ef37603ba",
   "metadata": {},
   "outputs": [
    {
     "data": {
      "text/html": [
       "<div>\n",
       "<style scoped>\n",
       "    .dataframe tbody tr th:only-of-type {\n",
       "        vertical-align: middle;\n",
       "    }\n",
       "\n",
       "    .dataframe tbody tr th {\n",
       "        vertical-align: top;\n",
       "    }\n",
       "\n",
       "    .dataframe thead th {\n",
       "        text-align: right;\n",
       "    }\n",
       "</style>\n",
       "<table border=\"1\" class=\"dataframe\">\n",
       "  <thead>\n",
       "    <tr style=\"text-align: right;\">\n",
       "      <th></th>\n",
       "      <th>ride_id</th>\n",
       "      <th>rideable_type</th>\n",
       "      <th>started_at</th>\n",
       "      <th>ended_at</th>\n",
       "      <th>start_station_name</th>\n",
       "      <th>start_station_id</th>\n",
       "      <th>end_station_name</th>\n",
       "      <th>end_station_id</th>\n",
       "      <th>start_lat</th>\n",
       "      <th>start_lng</th>\n",
       "      <th>end_lat</th>\n",
       "      <th>end_lng</th>\n",
       "      <th>member_casual</th>\n",
       "      <th>date</th>\n",
       "      <th>avgTemp</th>\n",
       "      <th>_merge</th>\n",
       "    </tr>\n",
       "  </thead>\n",
       "  <tbody>\n",
       "    <tr>\n",
       "      <th>4967</th>\n",
       "      <td>9D2DEF9B6D4FE1F2</td>\n",
       "      <td>electric_bike</td>\n",
       "      <td>2021-12-31 23:56:04.967</td>\n",
       "      <td>2022-01-01 00:10:03.697</td>\n",
       "      <td>3 St &amp; Prospect Park West</td>\n",
       "      <td>3865.05</td>\n",
       "      <td>Atlantic Ave &amp; Furman St</td>\n",
       "      <td>4614.04</td>\n",
       "      <td>40.668132</td>\n",
       "      <td>-73.973638</td>\n",
       "      <td>40.691652</td>\n",
       "      <td>-73.999979</td>\n",
       "      <td>member</td>\n",
       "      <td>2021-12-31</td>\n",
       "      <td>NaN</td>\n",
       "      <td>left_only</td>\n",
       "    </tr>\n",
       "    <tr>\n",
       "      <th>8335</th>\n",
       "      <td>07F3FEAE54546CCC</td>\n",
       "      <td>classic_bike</td>\n",
       "      <td>2021-12-31 23:25:37.862</td>\n",
       "      <td>2022-01-01 00:40:26.455</td>\n",
       "      <td>Hudson St &amp; W 13 St</td>\n",
       "      <td>6115.06</td>\n",
       "      <td>W 15 St &amp; 6 Ave</td>\n",
       "      <td>5989.02</td>\n",
       "      <td>40.740057</td>\n",
       "      <td>-74.005274</td>\n",
       "      <td>40.738046</td>\n",
       "      <td>-73.996430</td>\n",
       "      <td>casual</td>\n",
       "      <td>2021-12-31</td>\n",
       "      <td>NaN</td>\n",
       "      <td>left_only</td>\n",
       "    </tr>\n",
       "    <tr>\n",
       "      <th>9102</th>\n",
       "      <td>F7054D918A815DED</td>\n",
       "      <td>electric_bike</td>\n",
       "      <td>2021-12-31 23:38:49.704</td>\n",
       "      <td>2022-01-01 00:29:24.363</td>\n",
       "      <td>E 85 St &amp; 3 Ave</td>\n",
       "      <td>7212.05</td>\n",
       "      <td>E 81 St &amp; 2 Ave</td>\n",
       "      <td>7121.05</td>\n",
       "      <td>40.778012</td>\n",
       "      <td>-73.954071</td>\n",
       "      <td>40.774779</td>\n",
       "      <td>-73.954275</td>\n",
       "      <td>member</td>\n",
       "      <td>2021-12-31</td>\n",
       "      <td>NaN</td>\n",
       "      <td>left_only</td>\n",
       "    </tr>\n",
       "    <tr>\n",
       "      <th>9178</th>\n",
       "      <td>302DA77D1C2677A4</td>\n",
       "      <td>electric_bike</td>\n",
       "      <td>2021-12-31 23:41:16.311</td>\n",
       "      <td>2022-01-01 00:03:43.417</td>\n",
       "      <td>Perry St &amp; Greenwich Ave</td>\n",
       "      <td>5955.12</td>\n",
       "      <td>E 48 St &amp; 3 Ave</td>\n",
       "      <td>6541.03</td>\n",
       "      <td>40.735918</td>\n",
       "      <td>-74.000939</td>\n",
       "      <td>40.754601</td>\n",
       "      <td>-73.971879</td>\n",
       "      <td>casual</td>\n",
       "      <td>2021-12-31</td>\n",
       "      <td>NaN</td>\n",
       "      <td>left_only</td>\n",
       "    </tr>\n",
       "    <tr>\n",
       "      <th>18361</th>\n",
       "      <td>7A6CD4B02003DA01</td>\n",
       "      <td>classic_bike</td>\n",
       "      <td>2021-12-31 23:45:39.596</td>\n",
       "      <td>2022-01-01 00:09:44.400</td>\n",
       "      <td>W 84 St &amp; Columbus Ave</td>\n",
       "      <td>7382.04</td>\n",
       "      <td>Lexington Ave &amp; E 120 St</td>\n",
       "      <td>7652.04</td>\n",
       "      <td>40.785000</td>\n",
       "      <td>-73.972834</td>\n",
       "      <td>40.801307</td>\n",
       "      <td>-73.939817</td>\n",
       "      <td>casual</td>\n",
       "      <td>2021-12-31</td>\n",
       "      <td>NaN</td>\n",
       "      <td>left_only</td>\n",
       "    </tr>\n",
       "  </tbody>\n",
       "</table>\n",
       "</div>"
      ],
      "text/plain": [
       "                ride_id  rideable_type              started_at  \\\n",
       "4967   9D2DEF9B6D4FE1F2  electric_bike 2021-12-31 23:56:04.967   \n",
       "8335   07F3FEAE54546CCC   classic_bike 2021-12-31 23:25:37.862   \n",
       "9102   F7054D918A815DED  electric_bike 2021-12-31 23:38:49.704   \n",
       "9178   302DA77D1C2677A4  electric_bike 2021-12-31 23:41:16.311   \n",
       "18361  7A6CD4B02003DA01   classic_bike 2021-12-31 23:45:39.596   \n",
       "\n",
       "                      ended_at         start_station_name start_station_id  \\\n",
       "4967   2022-01-01 00:10:03.697  3 St & Prospect Park West          3865.05   \n",
       "8335   2022-01-01 00:40:26.455        Hudson St & W 13 St          6115.06   \n",
       "9102   2022-01-01 00:29:24.363            E 85 St & 3 Ave          7212.05   \n",
       "9178   2022-01-01 00:03:43.417   Perry St & Greenwich Ave          5955.12   \n",
       "18361  2022-01-01 00:09:44.400     W 84 St & Columbus Ave          7382.04   \n",
       "\n",
       "               end_station_name end_station_id  start_lat  start_lng  \\\n",
       "4967   Atlantic Ave & Furman St        4614.04  40.668132 -73.973638   \n",
       "8335            W 15 St & 6 Ave        5989.02  40.740057 -74.005274   \n",
       "9102            E 81 St & 2 Ave        7121.05  40.778012 -73.954071   \n",
       "9178            E 48 St & 3 Ave        6541.03  40.735918 -74.000939   \n",
       "18361  Lexington Ave & E 120 St        7652.04  40.785000 -73.972834   \n",
       "\n",
       "         end_lat    end_lng member_casual       date  avgTemp     _merge  \n",
       "4967   40.691652 -73.999979        member 2021-12-31      NaN  left_only  \n",
       "8335   40.738046 -73.996430        casual 2021-12-31      NaN  left_only  \n",
       "9102   40.774779 -73.954275        member 2021-12-31      NaN  left_only  \n",
       "9178   40.754601 -73.971879        casual 2021-12-31      NaN  left_only  \n",
       "18361  40.801307 -73.939817        casual 2021-12-31      NaN  left_only  "
      ]
     },
     "execution_count": 31,
     "metadata": {},
     "output_type": "execute_result"
    }
   ],
   "source": [
    "df_merged_left.head()"
   ]
  },
  {
   "cell_type": "markdown",
   "id": "a151b80c-5485-4c00-9eaa-d1f0cae15b16",
   "metadata": {},
   "source": [
    "## 6. Export the Data"
   ]
  },
  {
   "cell_type": "code",
   "execution_count": 33,
   "id": "f9f09891-efd2-41d0-8dc8-952dbd4dc8d7",
   "metadata": {},
   "outputs": [],
   "source": [
    "# Set the destination path for processed data (relative path)\n",
    "destpath = \"./Data/Prepared_data\"\n",
    "# Save the DataFrame to a CSV file at the destination path\n",
    "df_merged.to_csv(os.path.join(destpath, 'nyc_bike_weather_data.csv'))"
   ]
  },
  {
   "cell_type": "code",
   "execution_count": 34,
   "id": "f41b2d2b-d62b-4d5e-a278-951f0cddf992",
   "metadata": {},
   "outputs": [
    {
     "data": {
      "text/plain": [
       "(29838806, 16)"
      ]
     },
     "execution_count": 34,
     "metadata": {},
     "output_type": "execute_result"
    }
   ],
   "source": [
    "df_merged.shape"
   ]
  },
  {
   "cell_type": "code",
   "execution_count": 35,
   "id": "b3ea661c-3f9c-4239-81d3-283613f3f4ec",
   "metadata": {},
   "outputs": [],
   "source": [
    "# Set the destination path for processed data (relative path)\n",
    "destpath = \"./Data/Prepared_data\"\n",
    "# Save the DataFrame to a pkl file at the destination path\n",
    "df_merged.to_pickle(os.path.join(destpath, 'nyc_bike_weather_data.pkl'))"
   ]
  },
  {
   "cell_type": "code",
   "execution_count": null,
   "id": "7cdb9acf-36d4-4386-b3f8-17b4108ed903",
   "metadata": {},
   "outputs": [],
   "source": []
  }
 ],
 "metadata": {
  "kernelspec": {
   "display_name": "Python [conda env:anaconda3-venv_task3]",
   "language": "python",
   "name": "conda-env-anaconda3-venv_task3-py"
  },
  "language_info": {
   "codemirror_mode": {
    "name": "ipython",
    "version": 3
   },
   "file_extension": ".py",
   "mimetype": "text/x-python",
   "name": "python",
   "nbconvert_exporter": "python",
   "pygments_lexer": "ipython3",
   "version": "3.10.16"
  }
 },
 "nbformat": 4,
 "nbformat_minor": 5
}
