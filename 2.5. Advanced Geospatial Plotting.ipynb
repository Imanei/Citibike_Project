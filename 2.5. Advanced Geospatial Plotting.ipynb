{
 "cells": [
  {
   "cell_type": "markdown",
   "id": "7a49e392-cf34-4dd5-825b-8d81e847b9d5",
   "metadata": {},
   "source": [
    "### This script contains the following:\n",
    "#### 1. Importing Libraries and Dataset\n",
    "#### 2. Data Preprocessing\n",
    "#### 3. Geospatial Plotting\n",
    "#### 4. Exporting Visualization"
   ]
  },
  {
   "cell_type": "markdown",
   "id": "bf1a7b52-6f87-40d5-8811-afd81408cd71",
   "metadata": {},
   "source": [
    "## 1. Importing Libraries and Dataset"
   ]
  },
  {
   "cell_type": "code",
   "execution_count": 2,
   "id": "4baf0a4c-b83a-434d-95f5-22c1915c11a5",
   "metadata": {},
   "outputs": [],
   "source": [
    "# Import Libraries\n",
    "import pandas as pd\n",
    "import numpy as np\n",
    "import os\n",
    "import matplotlib.pyplot as plt\n",
    "from keplergl import KeplerGl\n",
    "from pyproj import CRS"
   ]
  },
  {
   "cell_type": "code",
   "execution_count": 3,
   "id": "115628c1-e08b-45e6-ae04-339ae0052425",
   "metadata": {},
   "outputs": [],
   "source": [
    "# Define the folder path\n",
    "folderpath = \"../Citibike_Project/Data/Prepared_data\"\n",
    "# Load the DataFrame from the pickle file\n",
    "df = pd.read_pickle(os.path.join(folderpath, 'cleaned_nyc_bike_weather_data.pkl'))"
   ]
  },
  {
   "cell_type": "code",
   "execution_count": 4,
   "id": "47fa4c9b-f201-4240-9123-5f93d1b9b27b",
   "metadata": {},
   "outputs": [
    {
     "data": {
      "text/plain": [
       "(29838166, 21)"
      ]
     },
     "execution_count": 4,
     "metadata": {},
     "output_type": "execute_result"
    }
   ],
   "source": [
    "df.shape"
   ]
  },
  {
   "cell_type": "code",
   "execution_count": 6,
   "id": "e4011372-ebfe-4b5d-a262-a0cbb857060d",
   "metadata": {},
   "outputs": [],
   "source": [
    "df[\"start_station_name\"] = df[\"start_station_name\"].astype(\"object\")\n",
    "df[\"end_station_name\"] = df[\"end_station_name\"].astype(\"object\")"
   ]
  },
  {
   "cell_type": "code",
   "execution_count": 7,
   "id": "aa9e26b4-cb27-46fa-ac3c-ebe3b6a3c617",
   "metadata": {},
   "outputs": [
    {
     "data": {
      "text/plain": [
       "ride_id                       object\n",
       "rideable_type               category\n",
       "started_at            datetime64[ns]\n",
       "ended_at              datetime64[ns]\n",
       "start_station_name            object\n",
       "start_station_id            category\n",
       "end_station_name              object\n",
       "end_station_id              category\n",
       "start_lat                    float32\n",
       "start_lng                    float32\n",
       "end_lat                      float32\n",
       "end_lng                      float32\n",
       "member_casual                 object\n",
       "date                  datetime64[ns]\n",
       "avgTemp                      float32\n",
       "trip_duration                  int64\n",
       "month                          int64\n",
       "season                        object\n",
       "value                          int64\n",
       "bike_rides_daily               int64\n",
       "log_trip_duration            float64\n",
       "dtype: object"
      ]
     },
     "execution_count": 7,
     "metadata": {},
     "output_type": "execute_result"
    }
   ],
   "source": [
    "df.dtypes"
   ]
  },
  {
   "cell_type": "markdown",
   "id": "a0e663a5-1e33-4fe2-9d3d-23c99f4aa41a",
   "metadata": {},
   "source": [
    "## 2. Data Preprocessing"
   ]
  },
  {
   "cell_type": "code",
   "execution_count": 8,
   "id": "753b75bd-cf30-47a4-b44a-ae86e6cd2b14",
   "metadata": {},
   "outputs": [],
   "source": [
    "# Create a value column and group by start and end station\n",
    "df['value'] = 1\n",
    "df_group = df.groupby(['start_station_name', 'end_station_name'])['value'].count().reset_index()"
   ]
  },
  {
   "cell_type": "code",
   "execution_count": 9,
   "id": "c89403aa-1cdd-438c-90c5-4444f87de6db",
   "metadata": {},
   "outputs": [
    {
     "data": {
      "text/html": [
       "<div>\n",
       "<style scoped>\n",
       "    .dataframe tbody tr th:only-of-type {\n",
       "        vertical-align: middle;\n",
       "    }\n",
       "\n",
       "    .dataframe tbody tr th {\n",
       "        vertical-align: top;\n",
       "    }\n",
       "\n",
       "    .dataframe thead th {\n",
       "        text-align: right;\n",
       "    }\n",
       "</style>\n",
       "<table border=\"1\" class=\"dataframe\">\n",
       "  <thead>\n",
       "    <tr style=\"text-align: right;\">\n",
       "      <th></th>\n",
       "      <th>start_station_name</th>\n",
       "      <th>end_station_name</th>\n",
       "      <th>value</th>\n",
       "    </tr>\n",
       "  </thead>\n",
       "  <tbody>\n",
       "    <tr>\n",
       "      <th>0</th>\n",
       "      <td>1 Ave &amp; E 110 St</td>\n",
       "      <td>1 Ave &amp; E 110 St</td>\n",
       "      <td>791</td>\n",
       "    </tr>\n",
       "    <tr>\n",
       "      <th>1</th>\n",
       "      <td>1 Ave &amp; E 110 St</td>\n",
       "      <td>1 Ave &amp; E 18 St</td>\n",
       "      <td>2</td>\n",
       "    </tr>\n",
       "    <tr>\n",
       "      <th>2</th>\n",
       "      <td>1 Ave &amp; E 110 St</td>\n",
       "      <td>1 Ave &amp; E 30 St</td>\n",
       "      <td>4</td>\n",
       "    </tr>\n",
       "    <tr>\n",
       "      <th>3</th>\n",
       "      <td>1 Ave &amp; E 110 St</td>\n",
       "      <td>1 Ave &amp; E 39 St</td>\n",
       "      <td>1</td>\n",
       "    </tr>\n",
       "    <tr>\n",
       "      <th>4</th>\n",
       "      <td>1 Ave &amp; E 110 St</td>\n",
       "      <td>1 Ave &amp; E 44 St</td>\n",
       "      <td>12</td>\n",
       "    </tr>\n",
       "    <tr>\n",
       "      <th>...</th>\n",
       "      <td>...</td>\n",
       "      <td>...</td>\n",
       "      <td>...</td>\n",
       "    </tr>\n",
       "    <tr>\n",
       "      <th>1013392</th>\n",
       "      <td>Yankee Ferry Terminal</td>\n",
       "      <td>Water St &amp; Main St</td>\n",
       "      <td>4</td>\n",
       "    </tr>\n",
       "    <tr>\n",
       "      <th>1013393</th>\n",
       "      <td>Yankee Ferry Terminal</td>\n",
       "      <td>West St &amp; Chambers St</td>\n",
       "      <td>6</td>\n",
       "    </tr>\n",
       "    <tr>\n",
       "      <th>1013394</th>\n",
       "      <td>Yankee Ferry Terminal</td>\n",
       "      <td>West St &amp; Liberty St</td>\n",
       "      <td>4</td>\n",
       "    </tr>\n",
       "    <tr>\n",
       "      <th>1013395</th>\n",
       "      <td>Yankee Ferry Terminal</td>\n",
       "      <td>West Thames St</td>\n",
       "      <td>1</td>\n",
       "    </tr>\n",
       "    <tr>\n",
       "      <th>1013396</th>\n",
       "      <td>Yankee Ferry Terminal</td>\n",
       "      <td>Yankee Ferry Terminal</td>\n",
       "      <td>5759</td>\n",
       "    </tr>\n",
       "  </tbody>\n",
       "</table>\n",
       "<p>1013397 rows × 3 columns</p>\n",
       "</div>"
      ],
      "text/plain": [
       "            start_station_name       end_station_name  value\n",
       "0             1 Ave & E 110 St       1 Ave & E 110 St    791\n",
       "1             1 Ave & E 110 St        1 Ave & E 18 St      2\n",
       "2             1 Ave & E 110 St        1 Ave & E 30 St      4\n",
       "3             1 Ave & E 110 St        1 Ave & E 39 St      1\n",
       "4             1 Ave & E 110 St        1 Ave & E 44 St     12\n",
       "...                        ...                    ...    ...\n",
       "1013392  Yankee Ferry Terminal     Water St & Main St      4\n",
       "1013393  Yankee Ferry Terminal  West St & Chambers St      6\n",
       "1013394  Yankee Ferry Terminal   West St & Liberty St      4\n",
       "1013395  Yankee Ferry Terminal         West Thames St      1\n",
       "1013396  Yankee Ferry Terminal  Yankee Ferry Terminal   5759\n",
       "\n",
       "[1013397 rows x 3 columns]"
      ]
     },
     "execution_count": 9,
     "metadata": {},
     "output_type": "execute_result"
    }
   ],
   "source": [
    "# Check the output\n",
    "df_group"
   ]
  },
  {
   "cell_type": "code",
   "execution_count": 10,
   "id": "1729b141-4c95-4f5e-9f92-0ebbe2f92ab1",
   "metadata": {},
   "outputs": [],
   "source": [
    "df_group.rename(columns = {'value' : 'trips'}, inplace = True)"
   ]
  },
  {
   "cell_type": "code",
   "execution_count": 12,
   "id": "a780736c-a8ce-4ddd-bf9e-f7d628e982b5",
   "metadata": {},
   "outputs": [],
   "source": [
    "#ADDING GEOSPATIAL COORDINATES TO TOTAL TRIPS\n",
    "# Isolate the start and end coordinates of routes taken\n",
    "stations = df[['start_station_name', 'end_station_name', 'start_lat', 'start_lng', 'end_lat', 'end_lng']].drop_duplicates().reset_index(drop=True)"
   ]
  },
  {
   "cell_type": "code",
   "execution_count": 13,
   "id": "2ffff045-5661-4470-abf1-ba6f255cca85",
   "metadata": {},
   "outputs": [
    {
     "data": {
      "text/plain": [
       "(4939318, 6)"
      ]
     },
     "execution_count": 13,
     "metadata": {},
     "output_type": "execute_result"
    }
   ],
   "source": [
    "stations.shape"
   ]
  },
  {
   "cell_type": "code",
   "execution_count": 14,
   "id": "aa9cd2a6-0557-4ad7-bd5a-3aa126be91af",
   "metadata": {},
   "outputs": [
    {
     "data": {
      "text/html": [
       "<div>\n",
       "<style scoped>\n",
       "    .dataframe tbody tr th:only-of-type {\n",
       "        vertical-align: middle;\n",
       "    }\n",
       "\n",
       "    .dataframe tbody tr th {\n",
       "        vertical-align: top;\n",
       "    }\n",
       "\n",
       "    .dataframe thead th {\n",
       "        text-align: right;\n",
       "    }\n",
       "</style>\n",
       "<table border=\"1\" class=\"dataframe\">\n",
       "  <thead>\n",
       "    <tr style=\"text-align: right;\">\n",
       "      <th></th>\n",
       "      <th>start_station_name</th>\n",
       "      <th>end_station_name</th>\n",
       "      <th>start_lat</th>\n",
       "      <th>start_lng</th>\n",
       "      <th>end_lat</th>\n",
       "      <th>end_lng</th>\n",
       "    </tr>\n",
       "  </thead>\n",
       "  <tbody>\n",
       "    <tr>\n",
       "      <th>0</th>\n",
       "      <td>West End Ave &amp; W 107 St</td>\n",
       "      <td>Mt Morris Park W &amp; W 120 St</td>\n",
       "      <td>40.802116</td>\n",
       "      <td>-73.968178</td>\n",
       "      <td>40.804039</td>\n",
       "      <td>-73.945923</td>\n",
       "    </tr>\n",
       "    <tr>\n",
       "      <th>1</th>\n",
       "      <td>Riverside Dr &amp; W 91 St</td>\n",
       "      <td>Riverside Dr &amp; W 82 St</td>\n",
       "      <td>40.793137</td>\n",
       "      <td>-73.977005</td>\n",
       "      <td>40.787209</td>\n",
       "      <td>-73.981277</td>\n",
       "    </tr>\n",
       "    <tr>\n",
       "      <th>2</th>\n",
       "      <td>Henry St &amp; Atlantic Ave</td>\n",
       "      <td>Clinton St &amp; Tillary St</td>\n",
       "      <td>40.690891</td>\n",
       "      <td>-73.996124</td>\n",
       "      <td>40.696232</td>\n",
       "      <td>-73.991417</td>\n",
       "    </tr>\n",
       "    <tr>\n",
       "      <th>3</th>\n",
       "      <td>Cleveland Pl &amp; Spring St</td>\n",
       "      <td>Rivington St &amp; Ridge St</td>\n",
       "      <td>40.722103</td>\n",
       "      <td>-73.997246</td>\n",
       "      <td>40.718502</td>\n",
       "      <td>-73.983299</td>\n",
       "    </tr>\n",
       "    <tr>\n",
       "      <th>4</th>\n",
       "      <td>1 Ave &amp; E 62 St</td>\n",
       "      <td>Allen St &amp; Rivington St</td>\n",
       "      <td>40.761227</td>\n",
       "      <td>-73.960938</td>\n",
       "      <td>40.720196</td>\n",
       "      <td>-73.989975</td>\n",
       "    </tr>\n",
       "  </tbody>\n",
       "</table>\n",
       "</div>"
      ],
      "text/plain": [
       "         start_station_name             end_station_name  start_lat  \\\n",
       "0   West End Ave & W 107 St  Mt Morris Park W & W 120 St  40.802116   \n",
       "1    Riverside Dr & W 91 St       Riverside Dr & W 82 St  40.793137   \n",
       "2   Henry St & Atlantic Ave      Clinton St & Tillary St  40.690891   \n",
       "3  Cleveland Pl & Spring St      Rivington St & Ridge St  40.722103   \n",
       "4           1 Ave & E 62 St      Allen St & Rivington St  40.761227   \n",
       "\n",
       "   start_lng    end_lat    end_lng  \n",
       "0 -73.968178  40.804039 -73.945923  \n",
       "1 -73.977005  40.787209 -73.981277  \n",
       "2 -73.996124  40.696232 -73.991417  \n",
       "3 -73.997246  40.718502 -73.983299  \n",
       "4 -73.960938  40.720196 -73.989975  "
      ]
     },
     "execution_count": 14,
     "metadata": {},
     "output_type": "execute_result"
    }
   ],
   "source": [
    "stations.head()"
   ]
  },
  {
   "cell_type": "code",
   "execution_count": 15,
   "id": "bc79069a-dfa7-49a7-a3f6-e8bd14dfec7d",
   "metadata": {},
   "outputs": [],
   "source": [
    "#USING THE MEDIAN TO APPLY COORDINATES\n",
    "# Group the dataframe by start and end station name, and median the coordinates\n",
    "stations = stations.groupby(['start_station_name', 'end_station_name'])[['start_lat', 'start_lng', 'end_lat', 'end_lng']].median().reset_index()\n",
    "     "
   ]
  },
  {
   "cell_type": "code",
   "execution_count": 16,
   "id": "03b5253b-274e-4bb4-8f85-0fd71722100a",
   "metadata": {},
   "outputs": [
    {
     "data": {
      "text/plain": [
       "(1013397, 6)"
      ]
     },
     "execution_count": 16,
     "metadata": {},
     "output_type": "execute_result"
    }
   ],
   "source": [
    "stations.shape"
   ]
  },
  {
   "cell_type": "code",
   "execution_count": 17,
   "id": "2921f781-6bbc-4714-81f8-5bb5d7e0f429",
   "metadata": {},
   "outputs": [],
   "source": [
    "# Merge the two dataframes\n",
    "df_final = df_group.merge(stations, how='inner', on=['start_station_name', 'end_station_name'])"
   ]
  },
  {
   "cell_type": "code",
   "execution_count": 18,
   "id": "a1631aca-1055-46aa-a5d1-c72f770dbc83",
   "metadata": {},
   "outputs": [
    {
     "data": {
      "text/html": [
       "<div>\n",
       "<style scoped>\n",
       "    .dataframe tbody tr th:only-of-type {\n",
       "        vertical-align: middle;\n",
       "    }\n",
       "\n",
       "    .dataframe tbody tr th {\n",
       "        vertical-align: top;\n",
       "    }\n",
       "\n",
       "    .dataframe thead th {\n",
       "        text-align: right;\n",
       "    }\n",
       "</style>\n",
       "<table border=\"1\" class=\"dataframe\">\n",
       "  <thead>\n",
       "    <tr style=\"text-align: right;\">\n",
       "      <th></th>\n",
       "      <th>start_station_name</th>\n",
       "      <th>end_station_name</th>\n",
       "      <th>trips</th>\n",
       "      <th>start_lat</th>\n",
       "      <th>start_lng</th>\n",
       "      <th>end_lat</th>\n",
       "      <th>end_lng</th>\n",
       "    </tr>\n",
       "  </thead>\n",
       "  <tbody>\n",
       "    <tr>\n",
       "      <th>0</th>\n",
       "      <td>1 Ave &amp; E 110 St</td>\n",
       "      <td>1 Ave &amp; E 110 St</td>\n",
       "      <td>791</td>\n",
       "      <td>40.792389</td>\n",
       "      <td>-73.938179</td>\n",
       "      <td>40.792328</td>\n",
       "      <td>-73.938301</td>\n",
       "    </tr>\n",
       "    <tr>\n",
       "      <th>1</th>\n",
       "      <td>1 Ave &amp; E 110 St</td>\n",
       "      <td>1 Ave &amp; E 18 St</td>\n",
       "      <td>2</td>\n",
       "      <td>40.792328</td>\n",
       "      <td>-73.938301</td>\n",
       "      <td>40.733810</td>\n",
       "      <td>-73.980545</td>\n",
       "    </tr>\n",
       "    <tr>\n",
       "      <th>2</th>\n",
       "      <td>1 Ave &amp; E 110 St</td>\n",
       "      <td>1 Ave &amp; E 30 St</td>\n",
       "      <td>4</td>\n",
       "      <td>40.792358</td>\n",
       "      <td>-73.938263</td>\n",
       "      <td>40.741444</td>\n",
       "      <td>-73.975357</td>\n",
       "    </tr>\n",
       "    <tr>\n",
       "      <th>3</th>\n",
       "      <td>1 Ave &amp; E 110 St</td>\n",
       "      <td>1 Ave &amp; E 39 St</td>\n",
       "      <td>1</td>\n",
       "      <td>40.792328</td>\n",
       "      <td>-73.938301</td>\n",
       "      <td>40.747139</td>\n",
       "      <td>-73.971130</td>\n",
       "    </tr>\n",
       "    <tr>\n",
       "      <th>4</th>\n",
       "      <td>1 Ave &amp; E 110 St</td>\n",
       "      <td>1 Ave &amp; E 44 St</td>\n",
       "      <td>12</td>\n",
       "      <td>40.792381</td>\n",
       "      <td>-73.938309</td>\n",
       "      <td>40.750019</td>\n",
       "      <td>-73.969055</td>\n",
       "    </tr>\n",
       "    <tr>\n",
       "      <th>...</th>\n",
       "      <td>...</td>\n",
       "      <td>...</td>\n",
       "      <td>...</td>\n",
       "      <td>...</td>\n",
       "      <td>...</td>\n",
       "      <td>...</td>\n",
       "      <td>...</td>\n",
       "    </tr>\n",
       "    <tr>\n",
       "      <th>1013392</th>\n",
       "      <td>Yankee Ferry Terminal</td>\n",
       "      <td>Water St &amp; Main St</td>\n",
       "      <td>4</td>\n",
       "      <td>40.687065</td>\n",
       "      <td>-74.016754</td>\n",
       "      <td>40.703213</td>\n",
       "      <td>-73.990410</td>\n",
       "    </tr>\n",
       "    <tr>\n",
       "      <th>1013393</th>\n",
       "      <td>Yankee Ferry Terminal</td>\n",
       "      <td>West St &amp; Chambers St</td>\n",
       "      <td>6</td>\n",
       "      <td>40.687065</td>\n",
       "      <td>-74.016754</td>\n",
       "      <td>40.717548</td>\n",
       "      <td>-74.013222</td>\n",
       "    </tr>\n",
       "    <tr>\n",
       "      <th>1013394</th>\n",
       "      <td>Yankee Ferry Terminal</td>\n",
       "      <td>West St &amp; Liberty St</td>\n",
       "      <td>4</td>\n",
       "      <td>40.687065</td>\n",
       "      <td>-74.016754</td>\n",
       "      <td>40.711445</td>\n",
       "      <td>-74.014847</td>\n",
       "    </tr>\n",
       "    <tr>\n",
       "      <th>1013395</th>\n",
       "      <td>Yankee Ferry Terminal</td>\n",
       "      <td>West Thames St</td>\n",
       "      <td>1</td>\n",
       "      <td>40.687065</td>\n",
       "      <td>-74.016754</td>\n",
       "      <td>40.708347</td>\n",
       "      <td>-74.017136</td>\n",
       "    </tr>\n",
       "    <tr>\n",
       "      <th>1013396</th>\n",
       "      <td>Yankee Ferry Terminal</td>\n",
       "      <td>Yankee Ferry Terminal</td>\n",
       "      <td>5759</td>\n",
       "      <td>40.687119</td>\n",
       "      <td>-74.016602</td>\n",
       "      <td>40.687065</td>\n",
       "      <td>-74.016754</td>\n",
       "    </tr>\n",
       "  </tbody>\n",
       "</table>\n",
       "<p>1013397 rows × 7 columns</p>\n",
       "</div>"
      ],
      "text/plain": [
       "            start_station_name       end_station_name  trips  start_lat  \\\n",
       "0             1 Ave & E 110 St       1 Ave & E 110 St    791  40.792389   \n",
       "1             1 Ave & E 110 St        1 Ave & E 18 St      2  40.792328   \n",
       "2             1 Ave & E 110 St        1 Ave & E 30 St      4  40.792358   \n",
       "3             1 Ave & E 110 St        1 Ave & E 39 St      1  40.792328   \n",
       "4             1 Ave & E 110 St        1 Ave & E 44 St     12  40.792381   \n",
       "...                        ...                    ...    ...        ...   \n",
       "1013392  Yankee Ferry Terminal     Water St & Main St      4  40.687065   \n",
       "1013393  Yankee Ferry Terminal  West St & Chambers St      6  40.687065   \n",
       "1013394  Yankee Ferry Terminal   West St & Liberty St      4  40.687065   \n",
       "1013395  Yankee Ferry Terminal         West Thames St      1  40.687065   \n",
       "1013396  Yankee Ferry Terminal  Yankee Ferry Terminal   5759  40.687119   \n",
       "\n",
       "         start_lng    end_lat    end_lng  \n",
       "0       -73.938179  40.792328 -73.938301  \n",
       "1       -73.938301  40.733810 -73.980545  \n",
       "2       -73.938263  40.741444 -73.975357  \n",
       "3       -73.938301  40.747139 -73.971130  \n",
       "4       -73.938309  40.750019 -73.969055  \n",
       "...            ...        ...        ...  \n",
       "1013392 -74.016754  40.703213 -73.990410  \n",
       "1013393 -74.016754  40.717548 -74.013222  \n",
       "1013394 -74.016754  40.711445 -74.014847  \n",
       "1013395 -74.016754  40.708347 -74.017136  \n",
       "1013396 -74.016602  40.687065 -74.016754  \n",
       "\n",
       "[1013397 rows x 7 columns]"
      ]
     },
     "execution_count": 18,
     "metadata": {},
     "output_type": "execute_result"
    }
   ],
   "source": [
    "df_final"
   ]
  },
  {
   "cell_type": "markdown",
   "id": "d287948e-c2f6-4f40-bf08-e1921cb246e7",
   "metadata": {},
   "source": [
    "## 3. Geospatial Plotting"
   ]
  },
  {
   "cell_type": "code",
   "execution_count": 21,
   "id": "94f100d4-0563-458f-9145-b7d6314f5401",
   "metadata": {},
   "outputs": [
    {
     "name": "stdout",
     "output_type": "stream",
     "text": [
      "User Guide: https://docs.kepler.gl/docs/keplergl-jupyter\n"
     ]
    },
    {
     "data": {
      "application/vnd.jupyter.widget-view+json": {
       "model_id": "78faf04d79d94385969517aaf95b08e7",
       "version_major": 2,
       "version_minor": 0
      },
      "text/plain": [
       "KeplerGl(data={'data_1':             start_station_name       end_station_name  trips  start_lat  \\\n",
       "0         …"
      ]
     },
     "execution_count": 21,
     "metadata": {},
     "output_type": "execute_result"
    }
   ],
   "source": [
    "# Create KeplerGl instance\n",
    "\n",
    "m = KeplerGl(height = 700, data={\"data_1\": df_final})\n",
    "m"
   ]
  },
  {
   "cell_type": "markdown",
   "id": "80f369d3-5b7c-4def-b070-ef0dd18f238c",
   "metadata": {},
   "source": [
    "## Kepler.gl Map Customization and Analysis  \n",
    "\n",
    "### Customizations Made  \n",
    "- **Color Gradient:** I applied a gradient to the arcs, using **yellow** for the source and **blue** for the target. This helps visualize the flow of trips and makes it easier to see the directionality of movement.    \n",
    "\n",
    "- **Start and End Points:** I set both start and end points to **red** to maintain a consistent visual theme while keeping them distinct from the arcs.  \n",
    "\n",
    "- **Trip Frequency Filter:** I added a filter to **only show trips with at least 1,500 occurrences**. This helps highlight the most commonly used routes and removes noise from infrequent trips.  \n",
    "\n",
    "#### Key Observations  \n",
<<<<<<< HEAD
    "## Key Observations  \n",
=======
>>>>>>> 636da91 (Goeaspatial updated)
    "\n",
    "- **Busy Zones:** The densest areas of trips are concentrated in **Midtown and Lower Manhattan**, with heavy traffic around Times Square and its surroundings. There are significant movements between **Manhattan and Brooklyn**, suggesting heavy commuting patterns. These areas are major commercial and transit hubs, which explains the high trip volume.  \n",
    " \n",
    "These patterns align with New York City's transit infrastructure, where business districts and major transportation hubs generate the highest trip activity. The visualization helps understand how people move through the city and which areas see the most traffic.  \n",
    "\n",
    "\n",
    "\n"
   ]
  },
  {
   "cell_type": "markdown",
   "id": "f5ec2859-1e27-4913-ae51-9fad11d4b600",
   "metadata": {},
   "source": [
    "## 4. Exporting Visualization"
   ]
  },
  {
   "cell_type": "code",
   "execution_count": 22,
   "id": "4ac94a18-2d96-438c-b1db-240e7b2f8a17",
   "metadata": {},
   "outputs": [],
   "source": [
    "config = m.config"
   ]
  },
  {
   "cell_type": "code",
   "execution_count": 23,
   "id": "a3438618-4086-4183-b17a-5d518a7f6642",
   "metadata": {},
   "outputs": [],
   "source": [
    "import json\n",
    "with open(\"config.json\", \"w\") as outfile:\n",
    "    json.dump(config, outfile)"
   ]
  },
  {
   "cell_type": "code",
   "execution_count": 24,
   "id": "75f6c3e0-2c76-4a66-a558-9cfd90cd1ad4",
   "metadata": {},
   "outputs": [
    {
     "name": "stdout",
     "output_type": "stream",
     "text": [
      "Map saved to Citi_Bike_Trips_Aggregated.html!\n"
     ]
    }
   ],
   "source": [
    "m.save_to_html(file_name = 'Citi_Bike_Trips_Aggregated.html', read_only = False, config = config)"
   ]
  },
  {
   "cell_type": "code",
   "execution_count": null,
   "id": "e492bc52-a9c0-4df3-95c9-d4812c7f733f",
   "metadata": {},
   "outputs": [],
   "source": []
  }
 ],
 "metadata": {
  "kernelspec": {
   "display_name": "Python (venv_task5)",
   "language": "python",
   "name": "venv_task5"
  },
  "language_info": {
   "codemirror_mode": {
    "name": "ipython",
    "version": 3
   },
   "file_extension": ".py",
   "mimetype": "text/x-python",
   "name": "python",
   "nbconvert_exporter": "python",
   "pygments_lexer": "ipython3",
   "version": "3.10.16"
  }
 },
 "nbformat": 4,
 "nbformat_minor": 5
}
