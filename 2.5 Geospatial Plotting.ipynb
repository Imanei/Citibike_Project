{
 "cells": [
  {
   "cell_type": "markdown",
   "id": "d2231ae7-8a96-4b21-8c27-3c5bf10647e7",
   "metadata": {},
   "source": [
    "### This Script contains the following:\n",
    "1. Importing Libraries and Data\n",
    "2. Data Preprocessing"
   ]
  },
  {
   "cell_type": "markdown",
   "id": "417a9c64-37c9-4076-8947-359d860f91ec",
   "metadata": {},
   "source": [
    "## 1. Importing Libraries and Dataset"
   ]
  },
  {
   "cell_type": "code",
   "execution_count": 2,
   "id": "8f302cb3-b3df-4508-9c8b-7dd1a4939a04",
   "metadata": {},
   "outputs": [],
   "source": [
    "%%capture\n",
    "\n",
    "import pandas as pd\n",
    "import os\n",
    "try:\n",
    "  from keplergl import KeplerGl\n",
    "except:\n",
    "  !pip install keplergl\n",
    "  from keplergl import KeplerGl\n",
    "from pyproj import CRS\n",
    "import numpy as np\n",
    "from matplotlib import pyplot as plt"
   ]
  },
  {
   "cell_type": "code",
   "execution_count": 3,
   "id": "effa647d-b71d-4380-b726-e0b9d0853a57",
   "metadata": {},
   "outputs": [],
   "source": [
    "# Define the folder path\n",
    "folderpath = \"../Citibike_Project/Data/Prepared_data\"\n",
    "# Load the DataFrame from the pickle file\n",
    "df = pd.read_pickle(os.path.join(folderpath, 'cleaned_nyc_bike_weather_data.pkl'))"
   ]
  },
  {
   "cell_type": "code",
   "execution_count": 4,
   "id": "f2c4c81e-458b-44dd-b633-e4771cf3293c",
   "metadata": {},
   "outputs": [
    {
     "data": {
      "text/plain": [
       "(29838166, 21)"
      ]
     },
     "execution_count": 4,
     "metadata": {},
     "output_type": "execute_result"
    }
   ],
   "source": [
    "# Check the shape\n",
    "df.shape"
   ]
  },
  {
   "cell_type": "code",
   "execution_count": 5,
   "id": "8353cd20-47ed-470b-bb30-22edc8022b0e",
   "metadata": {},
   "outputs": [
    {
     "data": {
      "text/plain": [
       "ride_id                       object\n",
       "rideable_type               category\n",
       "started_at            datetime64[ns]\n",
       "ended_at              datetime64[ns]\n",
       "start_station_name          category\n",
       "start_station_id            category\n",
       "end_station_name            category\n",
       "end_station_id              category\n",
       "start_lat                    float32\n",
       "start_lng                    float32\n",
       "end_lat                      float32\n",
       "end_lng                      float32\n",
       "member_casual                 object\n",
       "date                  datetime64[ns]\n",
       "avgTemp                      float32\n",
       "trip_duration                  int64\n",
       "month                          int64\n",
       "season                        object\n",
       "value                          int64\n",
       "bike_rides_daily               int64\n",
       "log_trip_duration            float64\n",
       "dtype: object"
      ]
     },
     "execution_count": 5,
     "metadata": {},
     "output_type": "execute_result"
    }
   ],
   "source": [
    "df.dtypes"
   ]
  },
  {
   "cell_type": "code",
   "execution_count": 6,
   "id": "445bb672-c9ca-48b7-99f3-00ff58b3e733",
   "metadata": {},
   "outputs": [],
   "source": [
    "# Convert from category to object (string)\n",
    "df['start_station_name'] = df['start_station_name'].astype(str)\n",
    "df['end_station_name'] = df['end_station_name'].astype(str)"
   ]
  },
  {
   "cell_type": "code",
   "execution_count": 7,
   "id": "2226b4c9-3735-4aca-8b19-46109d42a27c",
   "metadata": {},
   "outputs": [
    {
     "data": {
      "text/plain": [
       "ride_id                       object\n",
       "rideable_type               category\n",
       "started_at            datetime64[ns]\n",
       "ended_at              datetime64[ns]\n",
       "start_station_name            object\n",
       "start_station_id            category\n",
       "end_station_name              object\n",
       "end_station_id              category\n",
       "start_lat                    float32\n",
       "start_lng                    float32\n",
       "end_lat                      float32\n",
       "end_lng                      float32\n",
       "member_casual                 object\n",
       "date                  datetime64[ns]\n",
       "avgTemp                      float32\n",
       "trip_duration                  int64\n",
       "month                          int64\n",
       "season                        object\n",
       "value                          int64\n",
       "bike_rides_daily               int64\n",
       "log_trip_duration            float64\n",
       "dtype: object"
      ]
     },
     "execution_count": 7,
     "metadata": {},
     "output_type": "execute_result"
    }
   ],
   "source": [
    "df.dtypes"
   ]
  },
  {
   "cell_type": "markdown",
   "id": "7e05e924-3aec-4569-a643-3183acb192dc",
   "metadata": {},
   "source": [
    "## 2. Data Preprocessing"
   ]
  },
  {
   "cell_type": "markdown",
   "id": "55dc39d3-e260-4ddc-b8ce-45a23500c0ad",
   "metadata": {},
   "source": [
    "### 2.1. FINDING TOTAL TRIPS FROM AND TO EACH STATION"
   ]
  },
  {
   "cell_type": "code",
   "execution_count": 9,
   "id": "3ac2ff08-92fe-4a85-b290-12fae77ff726",
   "metadata": {},
   "outputs": [],
   "source": [
    "# Create a value column and group by start and end station\n",
    "df['value'] = 1\n",
    "df_group = df.groupby(['start_station_name', 'end_station_name'])['value'].count().reset_index()"
   ]
  },
  {
   "cell_type": "code",
   "execution_count": 10,
   "id": "a0c38f95-87ed-4876-9ab8-2725d2f24f17",
   "metadata": {},
   "outputs": [
    {
     "data": {
      "text/html": [
       "<div>\n",
       "<style scoped>\n",
       "    .dataframe tbody tr th:only-of-type {\n",
       "        vertical-align: middle;\n",
       "    }\n",
       "\n",
       "    .dataframe tbody tr th {\n",
       "        vertical-align: top;\n",
       "    }\n",
       "\n",
       "    .dataframe thead th {\n",
       "        text-align: right;\n",
       "    }\n",
       "</style>\n",
       "<table border=\"1\" class=\"dataframe\">\n",
       "  <thead>\n",
       "    <tr style=\"text-align: right;\">\n",
       "      <th></th>\n",
       "      <th>start_station_name</th>\n",
       "      <th>end_station_name</th>\n",
       "      <th>value</th>\n",
       "    </tr>\n",
       "  </thead>\n",
       "  <tbody>\n",
       "    <tr>\n",
       "      <th>0</th>\n",
       "      <td>1 Ave &amp; E 110 St</td>\n",
       "      <td>1 Ave &amp; E 110 St</td>\n",
       "      <td>791</td>\n",
       "    </tr>\n",
       "    <tr>\n",
       "      <th>1</th>\n",
       "      <td>1 Ave &amp; E 110 St</td>\n",
       "      <td>1 Ave &amp; E 18 St</td>\n",
       "      <td>2</td>\n",
       "    </tr>\n",
       "    <tr>\n",
       "      <th>2</th>\n",
       "      <td>1 Ave &amp; E 110 St</td>\n",
       "      <td>1 Ave &amp; E 30 St</td>\n",
       "      <td>4</td>\n",
       "    </tr>\n",
       "    <tr>\n",
       "      <th>3</th>\n",
       "      <td>1 Ave &amp; E 110 St</td>\n",
       "      <td>1 Ave &amp; E 39 St</td>\n",
       "      <td>1</td>\n",
       "    </tr>\n",
       "    <tr>\n",
       "      <th>4</th>\n",
       "      <td>1 Ave &amp; E 110 St</td>\n",
       "      <td>1 Ave &amp; E 44 St</td>\n",
       "      <td>12</td>\n",
       "    </tr>\n",
       "    <tr>\n",
       "      <th>...</th>\n",
       "      <td>...</td>\n",
       "      <td>...</td>\n",
       "      <td>...</td>\n",
       "    </tr>\n",
       "    <tr>\n",
       "      <th>1015109</th>\n",
       "      <td>Yankee Ferry Terminal</td>\n",
       "      <td>West St &amp; Liberty St</td>\n",
       "      <td>4</td>\n",
       "    </tr>\n",
       "    <tr>\n",
       "      <th>1015110</th>\n",
       "      <td>Yankee Ferry Terminal</td>\n",
       "      <td>West Thames St</td>\n",
       "      <td>1</td>\n",
       "    </tr>\n",
       "    <tr>\n",
       "      <th>1015111</th>\n",
       "      <td>Yankee Ferry Terminal</td>\n",
       "      <td>Yankee Ferry Terminal</td>\n",
       "      <td>5759</td>\n",
       "    </tr>\n",
       "    <tr>\n",
       "      <th>1015112</th>\n",
       "      <td>Yankee Ferry Terminal</td>\n",
       "      <td>nan</td>\n",
       "      <td>73</td>\n",
       "    </tr>\n",
       "    <tr>\n",
       "      <th>1015113</th>\n",
       "      <td>nan</td>\n",
       "      <td>nan</td>\n",
       "      <td>49</td>\n",
       "    </tr>\n",
       "  </tbody>\n",
       "</table>\n",
       "<p>1015114 rows × 3 columns</p>\n",
       "</div>"
      ],
      "text/plain": [
       "            start_station_name       end_station_name  value\n",
       "0             1 Ave & E 110 St       1 Ave & E 110 St    791\n",
       "1             1 Ave & E 110 St        1 Ave & E 18 St      2\n",
       "2             1 Ave & E 110 St        1 Ave & E 30 St      4\n",
       "3             1 Ave & E 110 St        1 Ave & E 39 St      1\n",
       "4             1 Ave & E 110 St        1 Ave & E 44 St     12\n",
       "...                        ...                    ...    ...\n",
       "1015109  Yankee Ferry Terminal   West St & Liberty St      4\n",
       "1015110  Yankee Ferry Terminal         West Thames St      1\n",
       "1015111  Yankee Ferry Terminal  Yankee Ferry Terminal   5759\n",
       "1015112  Yankee Ferry Terminal                    nan     73\n",
       "1015113                    nan                    nan     49\n",
       "\n",
       "[1015114 rows x 3 columns]"
      ]
     },
     "execution_count": 10,
     "metadata": {},
     "output_type": "execute_result"
    }
   ],
   "source": [
    "# Check the output\n",
    "df_group"
   ]
  },
  {
   "cell_type": "code",
   "execution_count": 11,
   "id": "3ec50024-ef89-4f7a-81e9-7d1c11208ccc",
   "metadata": {},
   "outputs": [],
   "source": [
    "# Rename the value column for clarity\n",
    "df_group.rename(columns = {'value' : 'trips'}, inplace = True)"
   ]
  },
  {
   "cell_type": "code",
   "execution_count": 12,
   "id": "49a34bb5-95b6-449a-b124-8cc2245c9838",
   "metadata": {},
   "outputs": [],
   "source": [
    "#ADDING GEOSPATIAL COORDINATES TO TOTAL TRIPS"
   ]
  },
  {
   "cell_type": "code",
   "execution_count": 13,
   "id": "9c5685fd-8d8a-481e-a52b-b02a17f503f1",
   "metadata": {},
   "outputs": [],
   "source": [
    "# Isolate the start and end coordinates of routes taken\n",
    "stations = df[['start_station_name', 'end_station_name', 'start_lat', 'start_lng', 'end_lat', 'end_lng']].drop_duplicates().reset_index(drop=True)\n",
    "     "
   ]
  },
  {
   "cell_type": "code",
   "execution_count": 14,
   "id": "2316b824-4aa9-409e-8446-3699f9ee1ddc",
   "metadata": {},
   "outputs": [
    {
     "data": {
      "text/html": [
       "<div>\n",
       "<style scoped>\n",
       "    .dataframe tbody tr th:only-of-type {\n",
       "        vertical-align: middle;\n",
       "    }\n",
       "\n",
       "    .dataframe tbody tr th {\n",
       "        vertical-align: top;\n",
       "    }\n",
       "\n",
       "    .dataframe thead th {\n",
       "        text-align: right;\n",
       "    }\n",
       "</style>\n",
       "<table border=\"1\" class=\"dataframe\">\n",
       "  <thead>\n",
       "    <tr style=\"text-align: right;\">\n",
       "      <th></th>\n",
       "      <th>start_station_name</th>\n",
       "      <th>end_station_name</th>\n",
       "      <th>start_lat</th>\n",
       "      <th>start_lng</th>\n",
       "      <th>end_lat</th>\n",
       "      <th>end_lng</th>\n",
       "    </tr>\n",
       "  </thead>\n",
       "  <tbody>\n",
       "    <tr>\n",
       "      <th>0</th>\n",
       "      <td>West End Ave &amp; W 107 St</td>\n",
       "      <td>Mt Morris Park W &amp; W 120 St</td>\n",
       "      <td>40.802116</td>\n",
       "      <td>-73.968178</td>\n",
       "      <td>40.804039</td>\n",
       "      <td>-73.945923</td>\n",
       "    </tr>\n",
       "    <tr>\n",
       "      <th>1</th>\n",
       "      <td>Riverside Dr &amp; W 91 St</td>\n",
       "      <td>Riverside Dr &amp; W 82 St</td>\n",
       "      <td>40.793137</td>\n",
       "      <td>-73.977005</td>\n",
       "      <td>40.787209</td>\n",
       "      <td>-73.981277</td>\n",
       "    </tr>\n",
       "    <tr>\n",
       "      <th>2</th>\n",
       "      <td>Henry St &amp; Atlantic Ave</td>\n",
       "      <td>Clinton St &amp; Tillary St</td>\n",
       "      <td>40.690891</td>\n",
       "      <td>-73.996124</td>\n",
       "      <td>40.696232</td>\n",
       "      <td>-73.991417</td>\n",
       "    </tr>\n",
       "    <tr>\n",
       "      <th>3</th>\n",
       "      <td>Cleveland Pl &amp; Spring St</td>\n",
       "      <td>Rivington St &amp; Ridge St</td>\n",
       "      <td>40.722103</td>\n",
       "      <td>-73.997246</td>\n",
       "      <td>40.718502</td>\n",
       "      <td>-73.983299</td>\n",
       "    </tr>\n",
       "    <tr>\n",
       "      <th>4</th>\n",
       "      <td>1 Ave &amp; E 62 St</td>\n",
       "      <td>Allen St &amp; Rivington St</td>\n",
       "      <td>40.761227</td>\n",
       "      <td>-73.960938</td>\n",
       "      <td>40.720196</td>\n",
       "      <td>-73.989975</td>\n",
       "    </tr>\n",
       "  </tbody>\n",
       "</table>\n",
       "</div>"
      ],
      "text/plain": [
       "         start_station_name             end_station_name  start_lat  \\\n",
       "0   West End Ave & W 107 St  Mt Morris Park W & W 120 St  40.802116   \n",
       "1    Riverside Dr & W 91 St       Riverside Dr & W 82 St  40.793137   \n",
       "2   Henry St & Atlantic Ave      Clinton St & Tillary St  40.690891   \n",
       "3  Cleveland Pl & Spring St      Rivington St & Ridge St  40.722103   \n",
       "4           1 Ave & E 62 St      Allen St & Rivington St  40.761227   \n",
       "\n",
       "   start_lng    end_lat    end_lng  \n",
       "0 -73.968178  40.804039 -73.945923  \n",
       "1 -73.977005  40.787209 -73.981277  \n",
       "2 -73.996124  40.696232 -73.991417  \n",
       "3 -73.997246  40.718502 -73.983299  \n",
       "4 -73.960938  40.720196 -73.989975  "
      ]
     },
     "execution_count": 14,
     "metadata": {},
     "output_type": "execute_result"
    }
   ],
   "source": [
    "stations.head()"
   ]
  },
  {
   "cell_type": "code",
   "execution_count": 15,
   "id": "55681003-3280-4c5a-abf1-fe86c3301702",
   "metadata": {},
   "outputs": [
    {
     "data": {
      "text/plain": [
       "(4939318, 6)"
      ]
     },
     "execution_count": 15,
     "metadata": {},
     "output_type": "execute_result"
    }
   ],
   "source": [
    "stations.shape\n"
   ]
  },
  {
   "cell_type": "markdown",
   "id": "b8690481-c7c4-4f1e-8a22-ded72939b828",
   "metadata": {},
   "source": [
    "### 2.2. USING THE MEDIAN TO APPLY COORDINATES"
   ]
  },
  {
   "cell_type": "code",
   "execution_count": 17,
   "id": "7651fd22-b93d-438c-a720-43af6db10c27",
   "metadata": {},
   "outputs": [],
   "source": [
    "# Group the dataframe by start and end station name, and median the coordinates\n",
    "stations = stations.groupby(['start_station_name', 'end_station_name'])[['start_lat', 'start_lng', 'end_lat', 'end_lng']].median().reset_index()\n",
    "     "
   ]
  },
  {
   "cell_type": "code",
   "execution_count": 18,
   "id": "7d3a115d-4125-4e59-ba26-7c8f8b8387f8",
   "metadata": {},
   "outputs": [
    {
     "data": {
      "text/plain": [
       "(1015114, 6)"
      ]
     },
     "execution_count": 18,
     "metadata": {},
     "output_type": "execute_result"
    }
   ],
   "source": [
    "stations.shape\n"
   ]
  },
  {
   "cell_type": "code",
   "execution_count": 19,
   "id": "f1f75a27-265b-458d-b812-cba9273ff528",
   "metadata": {},
   "outputs": [],
   "source": [
    "# Merge the two dataframes\n",
    "df_final = df_group.merge(stations, how='inner', on=['start_station_name', 'end_station_name'], indicator = 'merge_flag')\n",
    "     "
   ]
  },
  {
   "cell_type": "code",
   "execution_count": 20,
   "id": "97b01bf4-60c6-4c6f-912a-e5091220d467",
   "metadata": {},
   "outputs": [
    {
     "data": {
      "text/plain": [
       "(1015114, 8)"
      ]
     },
     "execution_count": 20,
     "metadata": {},
     "output_type": "execute_result"
    }
   ],
   "source": [
    "df_final.shape"
   ]
  },
  {
   "cell_type": "code",
   "execution_count": 21,
   "id": "2c8246ca-20b5-44a4-ae3c-101875549c64",
   "metadata": {},
   "outputs": [
    {
     "data": {
      "text/plain": [
       "both          1015114\n",
       "left_only           0\n",
       "right_only          0\n",
       "Name: merge_flag, dtype: int64"
      ]
     },
     "execution_count": 21,
     "metadata": {},
     "output_type": "execute_result"
    }
   ],
   "source": [
    "df_final['merge_flag'].value_counts()\n"
   ]
  },
  {
   "cell_type": "code",
   "execution_count": 22,
   "id": "72ff83f2-142b-46dd-9cdf-43071384001c",
   "metadata": {},
   "outputs": [],
   "source": [
    "# Replace NaN values with empty strings or zeros\n",
    "df_final = df_final.fillna(\"\")"
   ]
  },
  {
   "cell_type": "code",
   "execution_count": 23,
   "id": "7e6748b5-d762-47ad-abcd-b35cc5330ab1",
   "metadata": {},
   "outputs": [],
   "source": [
    "# Replace infinite values with NaN, then fill them with an appropriate value\n",
    "df_final.replace([np.inf, -np.inf], np.nan, inplace=True)\n",
    "df_final = df_final.fillna(\"\")"
   ]
  },
  {
   "cell_type": "markdown",
   "id": "bad2481d-1d71-4d8d-b8d2-8b3a1c7e0628",
   "metadata": {},
   "source": [
    "## 3. Geospatial Plotting"
   ]
  },
  {
   "cell_type": "code",
   "execution_count": 24,
   "id": "5e304514-0f96-408f-b27c-246d9d904a82",
   "metadata": {},
   "outputs": [
    {
     "name": "stdout",
     "output_type": "stream",
     "text": [
      "User Guide: https://docs.kepler.gl/docs/keplergl-jupyter\n"
     ]
    },
    {
     "data": {
      "application/vnd.jupyter.widget-view+json": {
       "model_id": "2dcd9fed3c7c4f4f948f410056be6289",
       "version_major": 2,
       "version_minor": 0
      },
      "text/plain": [
       "KeplerGl(data={'data_1':             start_station_name       end_station_name  trips  start_lat  \\\n",
       "0         …"
      ]
     },
     "execution_count": 24,
     "metadata": {},
     "output_type": "execute_result"
    }
   ],
   "source": [
    "# Create KeplerGl instance\n",
    "\n",
    "m = KeplerGl(height = 700, data={\"data_1\": df_final})\n",
    "m"
   ]
  },
  {
   "cell_type": "markdown",
   "id": "d29f5733-6cc0-4c64-be36-aa3614079095",
   "metadata": {},
   "source": [
    "### Kepler.gl Map Customization and Analysis  \n",
    "#### Customizations Made  \n",
    "- **Color Gradient:** I applied a gradient to the arcs, using **yellow** for the source and **blue** for the target. This helps visualize the flow of trips and makes it easier to see the directionality of movement.    \n",
    "- **Start and End Points:** I set both start and end points to **red** to maintain a consistent visual theme while keeping them distinct from the arcs.   \n",
    "- **Trip Frequency Filter:** I added a filter to **only show trips with at least 1,500 occurrences**. This helps highlight the most commonly used routes and removes noise from infrequent trips.  \n",
    "#### Key Observations  \n",
    "**Busy Zones:** The densest areas of trips are concentrated in **Midtown and Lower Manhattan**, with heavy traffic around Times Square and there are significant movements between Manhattan and Brooklyn. These areas are major commercial and transit hubs, which explains the high trip volume.  \n",
    "\n",
    "These patterns align with New York City's transit infrastructure, where business districts and major transportation hubs generate the highest trip activity. The visualization helps understand how people move through the city and which areas see the most traffic.  \n"
   ]
  },
  {
   "cell_type": "markdown",
   "id": "b30c1023-d0bc-43ec-95fd-8868ccf5c98f",
   "metadata": {},
   "source": [
    "## 4. Exporting Visualization"
   ]
  },
  {
   "cell_type": "code",
   "execution_count": 25,
   "id": "20719dcd-c299-47a7-b78a-5d1b95c5451b",
   "metadata": {},
   "outputs": [],
   "source": [
    "config = m.config"
   ]
  },
  {
   "cell_type": "code",
   "execution_count": 26,
   "id": "078b3d57-e534-4828-8e9b-505a2d808efd",
   "metadata": {},
   "outputs": [],
   "source": [
    "import json\n",
    "with open(\"config.json\", \"w\") as outfile:\n",
    "    json.dump(config, outfile)\n",
    "     "
   ]
  },
  {
   "cell_type": "code",
   "execution_count": 27,
   "id": "a29c3513-ac31-45db-82e7-fe80d3655718",
   "metadata": {},
   "outputs": [
    {
     "name": "stdout",
     "output_type": "stream",
     "text": [
      "Map saved to Citi_Bike_Trips.html!\n"
     ]
    }
   ],
   "source": [
    "m.save_to_html(file_name = 'Citi_Bike_Trips.html', read_only = False, config = config)\n"
   ]
  },
  {
   "cell_type": "code",
   "execution_count": null,
   "id": "c7f279fa-6a1c-4cf5-8f7f-fe00d7231109",
   "metadata": {},
   "outputs": [],
   "source": []
  }
 ],
 "metadata": {
  "kernelspec": {
   "display_name": "Python (venv_task5)",
   "language": "python",
   "name": "venv_task5"
  },
  "language_info": {
   "codemirror_mode": {
    "name": "ipython",
    "version": 3
   },
   "file_extension": ".py",
   "mimetype": "text/x-python",
   "name": "python",
   "nbconvert_exporter": "python",
   "pygments_lexer": "ipython3",
   "version": "3.10.16"
  }
 },
 "nbformat": 4,
 "nbformat_minor": 5
}
