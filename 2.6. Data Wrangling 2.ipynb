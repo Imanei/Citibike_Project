{
 "cells": [
  {
   "cell_type": "code",
   "execution_count": 1,
   "id": "c49c9542-9082-4add-a052-1d1ea8d5ab42",
   "metadata": {},
   "outputs": [],
   "source": [
    "import streamlit as st\n",
    "import pandas as pd\n",
    "import numpy as np\n",
    "import os\n",
    "import plotly.express as px\n",
    "from plotly.subplots import make_subplots\n",
    "import plotly.graph_objects as go\n",
    "import matplotlib.pyplot as plt\n",
    "from datetime import datetime as dt\n",
    "from streamlit_keplergl import keplergl_static"
   ]
  },
  {
   "cell_type": "code",
   "execution_count": 2,
   "id": "3bbf02ee-51ae-499f-bb22-f6bd758e3556",
   "metadata": {},
   "outputs": [],
   "source": [
    "# Define the folder path\n",
    "folderpath = \"../Citibike_Project/Data/Prepared_data\"\n",
    "# Load the DataFrame from the pickle file\n",
    "df = pd.read_pickle(os.path.join(folderpath, 'cleaned_nyc_bike_weather_data.pkl'))"
   ]
  },
  {
   "cell_type": "code",
   "execution_count": 3,
   "id": "e68c1d10-4f27-430b-ab15-21b64d7f9daa",
   "metadata": {},
   "outputs": [
    {
     "data": {
      "text/html": [
       "<div>\n",
       "<style scoped>\n",
       "    .dataframe tbody tr th:only-of-type {\n",
       "        vertical-align: middle;\n",
       "    }\n",
       "\n",
       "    .dataframe tbody tr th {\n",
       "        vertical-align: top;\n",
       "    }\n",
       "\n",
       "    .dataframe thead th {\n",
       "        text-align: right;\n",
       "    }\n",
       "</style>\n",
       "<table border=\"1\" class=\"dataframe\">\n",
       "  <thead>\n",
       "    <tr style=\"text-align: right;\">\n",
       "      <th></th>\n",
       "      <th>ride_id</th>\n",
       "      <th>rideable_type</th>\n",
       "      <th>started_at</th>\n",
       "      <th>ended_at</th>\n",
       "      <th>start_station_name</th>\n",
       "      <th>start_station_id</th>\n",
       "      <th>end_station_name</th>\n",
       "      <th>end_station_id</th>\n",
       "      <th>start_lat</th>\n",
       "      <th>start_lng</th>\n",
       "      <th>...</th>\n",
       "      <th>end_lng</th>\n",
       "      <th>member_casual</th>\n",
       "      <th>date</th>\n",
       "      <th>avgTemp</th>\n",
       "      <th>trip_duration</th>\n",
       "      <th>month</th>\n",
       "      <th>season</th>\n",
       "      <th>value</th>\n",
       "      <th>bike_rides_daily</th>\n",
       "      <th>log_trip_duration</th>\n",
       "    </tr>\n",
       "  </thead>\n",
       "  <tbody>\n",
       "    <tr>\n",
       "      <th>0</th>\n",
       "      <td>BFD29218AB271154</td>\n",
       "      <td>Electric Bike</td>\n",
       "      <td>2022-01-21 13:13:43.392</td>\n",
       "      <td>2022-01-21 13:22:31.463</td>\n",
       "      <td>West End Ave &amp; W 107 St</td>\n",
       "      <td>7650.05</td>\n",
       "      <td>Mt Morris Park W &amp; W 120 St</td>\n",
       "      <td>7685.14</td>\n",
       "      <td>40.802116</td>\n",
       "      <td>-73.968178</td>\n",
       "      <td>...</td>\n",
       "      <td>-73.945923</td>\n",
       "      <td>Member</td>\n",
       "      <td>2022-01-21</td>\n",
       "      <td>-6.0</td>\n",
       "      <td>528</td>\n",
       "      <td>1</td>\n",
       "      <td>Winter</td>\n",
       "      <td>1</td>\n",
       "      <td>33598</td>\n",
       "      <td>6.270988</td>\n",
       "    </tr>\n",
       "    <tr>\n",
       "      <th>1</th>\n",
       "      <td>096AE4C21473D1D6</td>\n",
       "      <td>Electric Bike</td>\n",
       "      <td>2022-01-21 20:32:55.968</td>\n",
       "      <td>2022-01-21 20:35:20.227</td>\n",
       "      <td>Riverside Dr &amp; W 91 St</td>\n",
       "      <td>7524.16</td>\n",
       "      <td>Riverside Dr &amp; W 82 St</td>\n",
       "      <td>7388.10</td>\n",
       "      <td>40.793137</td>\n",
       "      <td>-73.977005</td>\n",
       "      <td>...</td>\n",
       "      <td>-73.981277</td>\n",
       "      <td>Member</td>\n",
       "      <td>2022-01-21</td>\n",
       "      <td>-6.0</td>\n",
       "      <td>144</td>\n",
       "      <td>1</td>\n",
       "      <td>Winter</td>\n",
       "      <td>1</td>\n",
       "      <td>33598</td>\n",
       "      <td>4.976734</td>\n",
       "    </tr>\n",
       "    <tr>\n",
       "      <th>2</th>\n",
       "      <td>B3996D7CAEDF7B92</td>\n",
       "      <td>Classic Bike</td>\n",
       "      <td>2022-01-21 09:14:04.856</td>\n",
       "      <td>2022-01-21 09:18:53.000</td>\n",
       "      <td>Henry St &amp; Atlantic Ave</td>\n",
       "      <td>4531.05</td>\n",
       "      <td>Clinton St &amp; Tillary St</td>\n",
       "      <td>4748.07</td>\n",
       "      <td>40.690891</td>\n",
       "      <td>-73.996124</td>\n",
       "      <td>...</td>\n",
       "      <td>-73.991417</td>\n",
       "      <td>Member</td>\n",
       "      <td>2022-01-21</td>\n",
       "      <td>-6.0</td>\n",
       "      <td>288</td>\n",
       "      <td>1</td>\n",
       "      <td>Winter</td>\n",
       "      <td>1</td>\n",
       "      <td>33598</td>\n",
       "      <td>5.666427</td>\n",
       "    </tr>\n",
       "    <tr>\n",
       "      <th>3</th>\n",
       "      <td>83AE874442FFF355</td>\n",
       "      <td>Electric Bike</td>\n",
       "      <td>2022-01-21 17:30:27.244</td>\n",
       "      <td>2022-01-21 17:36:00.300</td>\n",
       "      <td>Cleveland Pl &amp; Spring St</td>\n",
       "      <td>5492.05</td>\n",
       "      <td>Rivington St &amp; Ridge St</td>\n",
       "      <td>5406.02</td>\n",
       "      <td>40.722103</td>\n",
       "      <td>-73.997246</td>\n",
       "      <td>...</td>\n",
       "      <td>-73.983299</td>\n",
       "      <td>Member</td>\n",
       "      <td>2022-01-21</td>\n",
       "      <td>-6.0</td>\n",
       "      <td>333</td>\n",
       "      <td>1</td>\n",
       "      <td>Winter</td>\n",
       "      <td>1</td>\n",
       "      <td>33598</td>\n",
       "      <td>5.811141</td>\n",
       "    </tr>\n",
       "    <tr>\n",
       "      <th>4</th>\n",
       "      <td>8B1950B6ED5BD50A</td>\n",
       "      <td>Electric Bike</td>\n",
       "      <td>2022-01-21 10:12:57.242</td>\n",
       "      <td>2022-01-21 10:31:37.016</td>\n",
       "      <td>1 Ave &amp; E 62 St</td>\n",
       "      <td>6753.08</td>\n",
       "      <td>Allen St &amp; Rivington St</td>\n",
       "      <td>5414.06</td>\n",
       "      <td>40.761227</td>\n",
       "      <td>-73.960938</td>\n",
       "      <td>...</td>\n",
       "      <td>-73.989975</td>\n",
       "      <td>Member</td>\n",
       "      <td>2022-01-21</td>\n",
       "      <td>-6.0</td>\n",
       "      <td>1119</td>\n",
       "      <td>1</td>\n",
       "      <td>Winter</td>\n",
       "      <td>1</td>\n",
       "      <td>33598</td>\n",
       "      <td>7.021084</td>\n",
       "    </tr>\n",
       "  </tbody>\n",
       "</table>\n",
       "<p>5 rows × 21 columns</p>\n",
       "</div>"
      ],
      "text/plain": [
       "            ride_id  rideable_type              started_at  \\\n",
       "0  BFD29218AB271154  Electric Bike 2022-01-21 13:13:43.392   \n",
       "1  096AE4C21473D1D6  Electric Bike 2022-01-21 20:32:55.968   \n",
       "2  B3996D7CAEDF7B92   Classic Bike 2022-01-21 09:14:04.856   \n",
       "3  83AE874442FFF355  Electric Bike 2022-01-21 17:30:27.244   \n",
       "4  8B1950B6ED5BD50A  Electric Bike 2022-01-21 10:12:57.242   \n",
       "\n",
       "                 ended_at        start_station_name start_station_id  \\\n",
       "0 2022-01-21 13:22:31.463   West End Ave & W 107 St          7650.05   \n",
       "1 2022-01-21 20:35:20.227    Riverside Dr & W 91 St          7524.16   \n",
       "2 2022-01-21 09:18:53.000   Henry St & Atlantic Ave          4531.05   \n",
       "3 2022-01-21 17:36:00.300  Cleveland Pl & Spring St          5492.05   \n",
       "4 2022-01-21 10:31:37.016           1 Ave & E 62 St          6753.08   \n",
       "\n",
       "              end_station_name end_station_id  start_lat  start_lng  ...  \\\n",
       "0  Mt Morris Park W & W 120 St        7685.14  40.802116 -73.968178  ...   \n",
       "1       Riverside Dr & W 82 St        7388.10  40.793137 -73.977005  ...   \n",
       "2      Clinton St & Tillary St        4748.07  40.690891 -73.996124  ...   \n",
       "3      Rivington St & Ridge St        5406.02  40.722103 -73.997246  ...   \n",
       "4      Allen St & Rivington St        5414.06  40.761227 -73.960938  ...   \n",
       "\n",
       "     end_lng  member_casual       date avgTemp  trip_duration  month  season  \\\n",
       "0 -73.945923         Member 2022-01-21    -6.0            528      1  Winter   \n",
       "1 -73.981277         Member 2022-01-21    -6.0            144      1  Winter   \n",
       "2 -73.991417         Member 2022-01-21    -6.0            288      1  Winter   \n",
       "3 -73.983299         Member 2022-01-21    -6.0            333      1  Winter   \n",
       "4 -73.989975         Member 2022-01-21    -6.0           1119      1  Winter   \n",
       "\n",
       "  value  bike_rides_daily  log_trip_duration  \n",
       "0     1             33598           6.270988  \n",
       "1     1             33598           4.976734  \n",
       "2     1             33598           5.666427  \n",
       "3     1             33598           5.811141  \n",
       "4     1             33598           7.021084  \n",
       "\n",
       "[5 rows x 21 columns]"
      ]
     },
     "execution_count": 3,
     "metadata": {},
     "output_type": "execute_result"
    }
   ],
   "source": [
    "df.head()"
   ]
  },
  {
   "cell_type": "code",
   "execution_count": 4,
   "id": "803760d2-490c-4e11-8505-41634f963422",
   "metadata": {},
   "outputs": [
    {
     "data": {
      "text/plain": [
       "(29838166, 21)"
      ]
     },
     "execution_count": 4,
     "metadata": {},
     "output_type": "execute_result"
    }
   ],
   "source": [
    "df.shape"
   ]
  },
  {
   "cell_type": "code",
   "execution_count": 38,
   "id": "00579409-c9d1-44bd-933f-cb18357eda58",
   "metadata": {},
   "outputs": [
    {
     "data": {
      "text/plain": [
       "Index(['ride_id', 'rideable_type', 'started_at', 'ended_at',\n",
       "       'start_station_name', 'start_station_id', 'end_station_name',\n",
       "       'end_station_id', 'start_lat', 'start_lng', 'end_lat', 'end_lng',\n",
       "       'member_casual', 'date', 'avgTemp', 'trip_duration', 'month', 'season',\n",
       "       'value', 'bike_rides_daily', 'log_trip_duration'],\n",
       "      dtype='object')"
      ]
     },
     "execution_count": 38,
     "metadata": {},
     "output_type": "execute_result"
    }
   ],
   "source": [
    "df.columns"
   ]
  },
  {
   "cell_type": "code",
   "execution_count": 53,
   "id": "ca057d44-f382-4bac-8595-732e183f27d1",
   "metadata": {},
   "outputs": [],
   "source": [
    "# Convert from category to object (string)\n",
    "df['start_station_name'] = df['start_station_name'].astype(str)\n",
    "df['end_station_name'] = df['end_station_name'].astype(str)"
   ]
  },
  {
   "cell_type": "code",
   "execution_count": 54,
   "id": "3b8d373c-27bb-42c4-812b-b8e6ef97e087",
   "metadata": {},
   "outputs": [],
   "source": [
    "sub_df= df.drop(columns = {'ride_id', 'started_at', 'ended_at', 'start_station_id',\n",
    "                         'end_station_id', 'start_lat', 'start_lng', 'end_lat',\n",
    "                         'end_lng', 'member_casual', 'month', 'log_trip_duration'})"
   ]
  },
  {
   "cell_type": "code",
   "execution_count": 55,
   "id": "049fe449-088c-4547-89ee-9d8cb1ae893f",
   "metadata": {},
   "outputs": [
    {
     "data": {
      "text/html": [
       "<div>\n",
       "<style scoped>\n",
       "    .dataframe tbody tr th:only-of-type {\n",
       "        vertical-align: middle;\n",
       "    }\n",
       "\n",
       "    .dataframe tbody tr th {\n",
       "        vertical-align: top;\n",
       "    }\n",
       "\n",
       "    .dataframe thead th {\n",
       "        text-align: right;\n",
       "    }\n",
       "</style>\n",
       "<table border=\"1\" class=\"dataframe\">\n",
       "  <thead>\n",
       "    <tr style=\"text-align: right;\">\n",
       "      <th></th>\n",
       "      <th>rideable_type</th>\n",
       "      <th>start_station_name</th>\n",
       "      <th>end_station_name</th>\n",
       "      <th>date</th>\n",
       "      <th>avgTemp</th>\n",
       "      <th>trip_duration</th>\n",
       "      <th>season</th>\n",
       "      <th>value</th>\n",
       "      <th>bike_rides_daily</th>\n",
       "    </tr>\n",
       "  </thead>\n",
       "  <tbody>\n",
       "    <tr>\n",
       "      <th>0</th>\n",
       "      <td>Electric Bike</td>\n",
       "      <td>West End Ave &amp; W 107 St</td>\n",
       "      <td>Mt Morris Park W &amp; W 120 St</td>\n",
       "      <td>2022-01-21</td>\n",
       "      <td>-6.0</td>\n",
       "      <td>528</td>\n",
       "      <td>Winter</td>\n",
       "      <td>1</td>\n",
       "      <td>33598</td>\n",
       "    </tr>\n",
       "    <tr>\n",
       "      <th>1</th>\n",
       "      <td>Electric Bike</td>\n",
       "      <td>Riverside Dr &amp; W 91 St</td>\n",
       "      <td>Riverside Dr &amp; W 82 St</td>\n",
       "      <td>2022-01-21</td>\n",
       "      <td>-6.0</td>\n",
       "      <td>144</td>\n",
       "      <td>Winter</td>\n",
       "      <td>1</td>\n",
       "      <td>33598</td>\n",
       "    </tr>\n",
       "    <tr>\n",
       "      <th>2</th>\n",
       "      <td>Classic Bike</td>\n",
       "      <td>Henry St &amp; Atlantic Ave</td>\n",
       "      <td>Clinton St &amp; Tillary St</td>\n",
       "      <td>2022-01-21</td>\n",
       "      <td>-6.0</td>\n",
       "      <td>288</td>\n",
       "      <td>Winter</td>\n",
       "      <td>1</td>\n",
       "      <td>33598</td>\n",
       "    </tr>\n",
       "    <tr>\n",
       "      <th>3</th>\n",
       "      <td>Electric Bike</td>\n",
       "      <td>Cleveland Pl &amp; Spring St</td>\n",
       "      <td>Rivington St &amp; Ridge St</td>\n",
       "      <td>2022-01-21</td>\n",
       "      <td>-6.0</td>\n",
       "      <td>333</td>\n",
       "      <td>Winter</td>\n",
       "      <td>1</td>\n",
       "      <td>33598</td>\n",
       "    </tr>\n",
       "    <tr>\n",
       "      <th>4</th>\n",
       "      <td>Electric Bike</td>\n",
       "      <td>1 Ave &amp; E 62 St</td>\n",
       "      <td>Allen St &amp; Rivington St</td>\n",
       "      <td>2022-01-21</td>\n",
       "      <td>-6.0</td>\n",
       "      <td>1119</td>\n",
       "      <td>Winter</td>\n",
       "      <td>1</td>\n",
       "      <td>33598</td>\n",
       "    </tr>\n",
       "  </tbody>\n",
       "</table>\n",
       "</div>"
      ],
      "text/plain": [
       "   rideable_type        start_station_name             end_station_name  \\\n",
       "0  Electric Bike   West End Ave & W 107 St  Mt Morris Park W & W 120 St   \n",
       "1  Electric Bike    Riverside Dr & W 91 St       Riverside Dr & W 82 St   \n",
       "2   Classic Bike   Henry St & Atlantic Ave      Clinton St & Tillary St   \n",
       "3  Electric Bike  Cleveland Pl & Spring St      Rivington St & Ridge St   \n",
       "4  Electric Bike           1 Ave & E 62 St      Allen St & Rivington St   \n",
       "\n",
       "        date  avgTemp  trip_duration  season  value  bike_rides_daily  \n",
       "0 2022-01-21     -6.0            528  Winter      1             33598  \n",
       "1 2022-01-21     -6.0            144  Winter      1             33598  \n",
       "2 2022-01-21     -6.0            288  Winter      1             33598  \n",
       "3 2022-01-21     -6.0            333  Winter      1             33598  \n",
       "4 2022-01-21     -6.0           1119  Winter      1             33598  "
      ]
     },
     "execution_count": 55,
     "metadata": {},
     "output_type": "execute_result"
    }
   ],
   "source": [
    "sub_df.head()"
   ]
  },
  {
   "cell_type": "code",
   "execution_count": 56,
   "id": "b1863015-bb23-4431-8940-843f2d059d0a",
   "metadata": {},
   "outputs": [],
   "source": [
    "df_temps = sub_df[['date', 'avgTemp']]\n",
    "df_temps = df_temps.groupby('date', as_index = False).agg(pd.Series.mode)"
   ]
  },
  {
   "cell_type": "code",
   "execution_count": 57,
   "id": "655e5e55-d78d-460c-9d28-24def33135d8",
   "metadata": {},
   "outputs": [],
   "source": [
    "df_daily_rides = sub_df[['date', 'value']]\n",
    "df_daily_rides = df_daily_rides.groupby('date', as_index = False).sum('value')\n",
    "df_daily_rides = df_daily_rides.rename(columns = {'value': 'Daily Rides'})"
   ]
  },
  {
   "cell_type": "code",
   "execution_count": 58,
   "id": "a3a421db-7e11-4872-bef4-9d6d8128f473",
   "metadata": {},
   "outputs": [],
   "source": [
    "df_classic_daily_rides = sub_df[['date', 'rideable_type', 'value']]\n",
    "df_classic_daily_rides = df_classic_daily_rides.groupby(['date', 'rideable_type'], as_index = False).sum('value')\n",
    "df_classic_daily_rides = df_classic_daily_rides.loc[df_classic_daily_rides['rideable_type'] == 'Classic Bike']\n",
    "df_classic_daily_rides = df_classic_daily_rides.rename(columns = {'value': 'Daily Classic Rides'})"
   ]
  },
  {
   "cell_type": "code",
   "execution_count": 59,
   "id": "df85b20e-9a19-46f8-9e6a-c43423edcba1",
   "metadata": {},
   "outputs": [],
   "source": [
    "line_chart_data = df_temps.merge(df_daily_rides, on = 'date', how = 'left')\n"
   ]
  },
  {
   "cell_type": "code",
   "execution_count": 60,
   "id": "06f7d724-d199-455b-9e89-d0e03ee72d8d",
   "metadata": {},
   "outputs": [],
   "source": [
    "line_chart_data = line_chart_data.merge(df_classic_daily_rides[['date', 'Daily Classic Rides']], \n",
    "                                        on = 'date', how = 'left')"
   ]
  },
  {
   "cell_type": "code",
   "execution_count": 61,
   "id": "00a59672-3343-4e03-8f08-c508eb5c407f",
   "metadata": {},
   "outputs": [
    {
     "data": {
      "text/html": [
       "<div>\n",
       "<style scoped>\n",
       "    .dataframe tbody tr th:only-of-type {\n",
       "        vertical-align: middle;\n",
       "    }\n",
       "\n",
       "    .dataframe tbody tr th {\n",
       "        vertical-align: top;\n",
       "    }\n",
       "\n",
       "    .dataframe thead th {\n",
       "        text-align: right;\n",
       "    }\n",
       "</style>\n",
       "<table border=\"1\" class=\"dataframe\">\n",
       "  <thead>\n",
       "    <tr style=\"text-align: right;\">\n",
       "      <th></th>\n",
       "      <th>Date</th>\n",
       "      <th>Average Temperature</th>\n",
       "      <th>Daily Rides</th>\n",
       "      <th>Daily Classic Rides</th>\n",
       "    </tr>\n",
       "  </thead>\n",
       "  <tbody>\n",
       "    <tr>\n",
       "      <th>0</th>\n",
       "      <td>2022-01-01</td>\n",
       "      <td>11.6</td>\n",
       "      <td>20428</td>\n",
       "      <td>11399</td>\n",
       "    </tr>\n",
       "    <tr>\n",
       "      <th>1</th>\n",
       "      <td>2022-01-02</td>\n",
       "      <td>11.4</td>\n",
       "      <td>43009</td>\n",
       "      <td>26857</td>\n",
       "    </tr>\n",
       "    <tr>\n",
       "      <th>2</th>\n",
       "      <td>2022-01-03</td>\n",
       "      <td>1.4</td>\n",
       "      <td>33189</td>\n",
       "      <td>19583</td>\n",
       "    </tr>\n",
       "    <tr>\n",
       "      <th>3</th>\n",
       "      <td>2022-01-04</td>\n",
       "      <td>-2.7</td>\n",
       "      <td>36842</td>\n",
       "      <td>22476</td>\n",
       "    </tr>\n",
       "    <tr>\n",
       "      <th>4</th>\n",
       "      <td>2022-01-05</td>\n",
       "      <td>3.2</td>\n",
       "      <td>34230</td>\n",
       "      <td>20676</td>\n",
       "    </tr>\n",
       "  </tbody>\n",
       "</table>\n",
       "</div>"
      ],
      "text/plain": [
       "        Date  Average Temperature  Daily Rides  Daily Classic Rides\n",
       "0 2022-01-01                 11.6        20428                11399\n",
       "1 2022-01-02                 11.4        43009                26857\n",
       "2 2022-01-03                  1.4        33189                19583\n",
       "3 2022-01-04                 -2.7        36842                22476\n",
       "4 2022-01-05                  3.2        34230                20676"
      ]
     },
     "execution_count": 61,
     "metadata": {},
     "output_type": "execute_result"
    }
   ],
   "source": [
    "line_chart_data = line_chart_data.rename(columns = {'date' : 'Date', 'avgTemp' : 'Average Temperature'})\n",
    "line_chart_data.head()\n"
   ]
  },
  {
   "cell_type": "code",
   "execution_count": 82,
   "id": "1605b3e3-48c8-41a1-bf18-bad425295022",
   "metadata": {},
   "outputs": [],
   "source": [
    "#EXPORT DATA\n",
    "line_chart_data.to_csv(os.path.join(folderpath, 'DB_line_chart_data.csv'), index=True)"
   ]
  },
  {
   "cell_type": "code",
   "execution_count": 62,
   "id": "607f279d-77f0-4f8d-a703-98624e062b3a",
   "metadata": {},
   "outputs": [],
   "source": [
    "df_bar = sub_df[['start_station_name', 'end_station_name', 'rideable_type', 'season', 'value']]"
   ]
  },
  {
   "cell_type": "code",
   "execution_count": 63,
   "id": "a5de5b2d-723b-4d70-a6e8-f9a114a902db",
   "metadata": {},
   "outputs": [
    {
     "data": {
      "text/html": [
       "<div>\n",
       "<style scoped>\n",
       "    .dataframe tbody tr th:only-of-type {\n",
       "        vertical-align: middle;\n",
       "    }\n",
       "\n",
       "    .dataframe tbody tr th {\n",
       "        vertical-align: top;\n",
       "    }\n",
       "\n",
       "    .dataframe thead th {\n",
       "        text-align: right;\n",
       "    }\n",
       "</style>\n",
       "<table border=\"1\" class=\"dataframe\">\n",
       "  <thead>\n",
       "    <tr style=\"text-align: right;\">\n",
       "      <th></th>\n",
       "      <th>start_station_name</th>\n",
       "      <th>end_station_name</th>\n",
       "      <th>rideable_type</th>\n",
       "      <th>season</th>\n",
       "      <th>value</th>\n",
       "    </tr>\n",
       "  </thead>\n",
       "  <tbody>\n",
       "    <tr>\n",
       "      <th>0</th>\n",
       "      <td>West End Ave &amp; W 107 St</td>\n",
       "      <td>Mt Morris Park W &amp; W 120 St</td>\n",
       "      <td>Electric Bike</td>\n",
       "      <td>Winter</td>\n",
       "      <td>1</td>\n",
       "    </tr>\n",
       "    <tr>\n",
       "      <th>1</th>\n",
       "      <td>Riverside Dr &amp; W 91 St</td>\n",
       "      <td>Riverside Dr &amp; W 82 St</td>\n",
       "      <td>Electric Bike</td>\n",
       "      <td>Winter</td>\n",
       "      <td>1</td>\n",
       "    </tr>\n",
       "    <tr>\n",
       "      <th>2</th>\n",
       "      <td>Henry St &amp; Atlantic Ave</td>\n",
       "      <td>Clinton St &amp; Tillary St</td>\n",
       "      <td>Classic Bike</td>\n",
       "      <td>Winter</td>\n",
       "      <td>1</td>\n",
       "    </tr>\n",
       "    <tr>\n",
       "      <th>3</th>\n",
       "      <td>Cleveland Pl &amp; Spring St</td>\n",
       "      <td>Rivington St &amp; Ridge St</td>\n",
       "      <td>Electric Bike</td>\n",
       "      <td>Winter</td>\n",
       "      <td>1</td>\n",
       "    </tr>\n",
       "    <tr>\n",
       "      <th>4</th>\n",
       "      <td>1 Ave &amp; E 62 St</td>\n",
       "      <td>Allen St &amp; Rivington St</td>\n",
       "      <td>Electric Bike</td>\n",
       "      <td>Winter</td>\n",
       "      <td>1</td>\n",
       "    </tr>\n",
       "  </tbody>\n",
       "</table>\n",
       "</div>"
      ],
      "text/plain": [
       "         start_station_name             end_station_name  rideable_type  \\\n",
       "0   West End Ave & W 107 St  Mt Morris Park W & W 120 St  Electric Bike   \n",
       "1    Riverside Dr & W 91 St       Riverside Dr & W 82 St  Electric Bike   \n",
       "2   Henry St & Atlantic Ave      Clinton St & Tillary St   Classic Bike   \n",
       "3  Cleveland Pl & Spring St      Rivington St & Ridge St  Electric Bike   \n",
       "4           1 Ave & E 62 St      Allen St & Rivington St  Electric Bike   \n",
       "\n",
       "   season  value  \n",
       "0  Winter      1  \n",
       "1  Winter      1  \n",
       "2  Winter      1  \n",
       "3  Winter      1  \n",
       "4  Winter      1  "
      ]
     },
     "execution_count": 63,
     "metadata": {},
     "output_type": "execute_result"
    }
   ],
   "source": [
    "df_bar.head()"
   ]
  },
  {
   "cell_type": "code",
   "execution_count": 64,
   "id": "07bb5448-42e6-4794-b2a1-91c48ea1c872",
   "metadata": {},
   "outputs": [],
   "source": [
    "df_bar_start = df_bar.groupby('start_station_name', as_index=False).sum('value')\n",
    "df_top_start = df_bar_start.nlargest(20, 'value')\n",
    "top_start_list = df_top_start['start_station_name'].tolist()"
   ]
  },
  {
   "cell_type": "code",
   "execution_count": 65,
   "id": "3169453d-d177-4d41-aae6-76fbe58d7b1b",
   "metadata": {},
   "outputs": [],
   "source": [
    "top_start_data = df_bar.loc[df_bar['start_station_name'].isin(top_start_list)]\n",
    "grouped_start = top_start_data.groupby(['start_station_name', 'rideable_type', 'season'], \n",
    "                                       as_index=False).sum('value')\n",
    "grouped_start = grouped_start.rename(columns = {'value' : 'Total'})"
   ]
  },
  {
   "cell_type": "code",
   "execution_count": 66,
   "id": "6b7c16d3-1f93-426b-9501-cc8ab75a9dc4",
   "metadata": {},
   "outputs": [
    {
     "data": {
      "text/html": [
       "<div>\n",
       "<style scoped>\n",
       "    .dataframe tbody tr th:only-of-type {\n",
       "        vertical-align: middle;\n",
       "    }\n",
       "\n",
       "    .dataframe tbody tr th {\n",
       "        vertical-align: top;\n",
       "    }\n",
       "\n",
       "    .dataframe thead th {\n",
       "        text-align: right;\n",
       "    }\n",
       "</style>\n",
       "<table border=\"1\" class=\"dataframe\">\n",
       "  <thead>\n",
       "    <tr style=\"text-align: right;\">\n",
       "      <th></th>\n",
       "      <th>start_station_name</th>\n",
       "      <th>rideable_type</th>\n",
       "      <th>season</th>\n",
       "      <th>Total</th>\n",
       "    </tr>\n",
       "  </thead>\n",
       "  <tbody>\n",
       "    <tr>\n",
       "      <th>0</th>\n",
       "      <td>1 Ave &amp; E 68 St</td>\n",
       "      <td>Classic Bike</td>\n",
       "      <td>Fall</td>\n",
       "      <td>14736</td>\n",
       "    </tr>\n",
       "    <tr>\n",
       "      <th>1</th>\n",
       "      <td>1 Ave &amp; E 68 St</td>\n",
       "      <td>Classic Bike</td>\n",
       "      <td>Spring</td>\n",
       "      <td>15016</td>\n",
       "    </tr>\n",
       "    <tr>\n",
       "      <th>2</th>\n",
       "      <td>1 Ave &amp; E 68 St</td>\n",
       "      <td>Classic Bike</td>\n",
       "      <td>Summer</td>\n",
       "      <td>19145</td>\n",
       "    </tr>\n",
       "    <tr>\n",
       "      <th>3</th>\n",
       "      <td>1 Ave &amp; E 68 St</td>\n",
       "      <td>Classic Bike</td>\n",
       "      <td>Winter</td>\n",
       "      <td>7940</td>\n",
       "    </tr>\n",
       "    <tr>\n",
       "      <th>4</th>\n",
       "      <td>1 Ave &amp; E 68 St</td>\n",
       "      <td>Electric Bike</td>\n",
       "      <td>Fall</td>\n",
       "      <td>14289</td>\n",
       "    </tr>\n",
       "  </tbody>\n",
       "</table>\n",
       "</div>"
      ],
      "text/plain": [
       "  start_station_name  rideable_type  season  Total\n",
       "0    1 Ave & E 68 St   Classic Bike    Fall  14736\n",
       "1    1 Ave & E 68 St   Classic Bike  Spring  15016\n",
       "2    1 Ave & E 68 St   Classic Bike  Summer  19145\n",
       "3    1 Ave & E 68 St   Classic Bike  Winter   7940\n",
       "4    1 Ave & E 68 St  Electric Bike    Fall  14289"
      ]
     },
     "execution_count": 66,
     "metadata": {},
     "output_type": "execute_result"
    }
   ],
   "source": [
    "grouped_start.head()"
   ]
  },
  {
   "cell_type": "code",
   "execution_count": 67,
   "id": "7ce18731-868e-40ff-9246-74f7aed28347",
   "metadata": {},
   "outputs": [],
   "source": [
    "df_bar_end = df_bar.groupby('end_station_name', as_index=False).sum('value')\n",
    "df_top_end = df_bar_end.nlargest(20, 'value')\n",
    "top_end_list = df_top_end['end_station_name'].tolist()"
   ]
  },
  {
   "cell_type": "code",
   "execution_count": 68,
   "id": "84f0e2bd-2043-4e4b-a773-a9545516a77d",
   "metadata": {},
   "outputs": [],
   "source": [
    "top_end_data = df_bar.loc[df_bar['end_station_name'].isin(top_end_list)]\n",
    "grouped_end = top_end_data.groupby(['end_station_name', 'rideable_type', 'season'], \n",
    "                                       as_index=False).sum('value')\n",
    "grouped_end = grouped_end.rename(columns = {'value' : 'Total'})"
   ]
  },
  {
   "cell_type": "code",
   "execution_count": 69,
   "id": "e9377fbf-baf2-439f-a59c-595ed7c3b0e7",
   "metadata": {},
   "outputs": [],
   "source": [
    "grouped_start = grouped_start.merge(df_top_start[['start_station_name', 'value']], on='start_station_name', how='left')\n",
    "grouped_end = grouped_end.merge(df_top_end[['end_station_name', 'value']], on='end_station_name', how='left')"
   ]
  },
  {
   "cell_type": "code",
   "execution_count": 70,
   "id": "7e0f34e3-692e-48d3-b9c5-a1953da4fa86",
   "metadata": {},
   "outputs": [],
   "source": [
    "grouped_start = grouped_start.rename(columns = {'value' : 'Grand Total'})\n",
    "grouped_end = grouped_end.rename(columns = {'value' : 'Grand Total'})"
   ]
  },
  {
   "cell_type": "code",
   "execution_count": 71,
   "id": "778eeffd-6eea-4aa5-814c-8334d75fe1b5",
   "metadata": {},
   "outputs": [
    {
     "data": {
      "text/html": [
       "<div>\n",
       "<style scoped>\n",
       "    .dataframe tbody tr th:only-of-type {\n",
       "        vertical-align: middle;\n",
       "    }\n",
       "\n",
       "    .dataframe tbody tr th {\n",
       "        vertical-align: top;\n",
       "    }\n",
       "\n",
       "    .dataframe thead th {\n",
       "        text-align: right;\n",
       "    }\n",
       "</style>\n",
       "<table border=\"1\" class=\"dataframe\">\n",
       "  <thead>\n",
       "    <tr style=\"text-align: right;\">\n",
       "      <th></th>\n",
       "      <th>start_station_name</th>\n",
       "      <th>rideable_type</th>\n",
       "      <th>season</th>\n",
       "      <th>Total</th>\n",
       "      <th>Grand Total</th>\n",
       "    </tr>\n",
       "  </thead>\n",
       "  <tbody>\n",
       "    <tr>\n",
       "      <th>0</th>\n",
       "      <td>1 Ave &amp; E 68 St</td>\n",
       "      <td>Classic Bike</td>\n",
       "      <td>Fall</td>\n",
       "      <td>14736</td>\n",
       "      <td>104856</td>\n",
       "    </tr>\n",
       "    <tr>\n",
       "      <th>1</th>\n",
       "      <td>1 Ave &amp; E 68 St</td>\n",
       "      <td>Classic Bike</td>\n",
       "      <td>Spring</td>\n",
       "      <td>15016</td>\n",
       "      <td>104856</td>\n",
       "    </tr>\n",
       "    <tr>\n",
       "      <th>2</th>\n",
       "      <td>1 Ave &amp; E 68 St</td>\n",
       "      <td>Classic Bike</td>\n",
       "      <td>Summer</td>\n",
       "      <td>19145</td>\n",
       "      <td>104856</td>\n",
       "    </tr>\n",
       "    <tr>\n",
       "      <th>3</th>\n",
       "      <td>1 Ave &amp; E 68 St</td>\n",
       "      <td>Classic Bike</td>\n",
       "      <td>Winter</td>\n",
       "      <td>7940</td>\n",
       "      <td>104856</td>\n",
       "    </tr>\n",
       "    <tr>\n",
       "      <th>4</th>\n",
       "      <td>1 Ave &amp; E 68 St</td>\n",
       "      <td>Electric Bike</td>\n",
       "      <td>Fall</td>\n",
       "      <td>14289</td>\n",
       "      <td>104856</td>\n",
       "    </tr>\n",
       "  </tbody>\n",
       "</table>\n",
       "</div>"
      ],
      "text/plain": [
       "  start_station_name  rideable_type  season  Total  Grand Total\n",
       "0    1 Ave & E 68 St   Classic Bike    Fall  14736       104856\n",
       "1    1 Ave & E 68 St   Classic Bike  Spring  15016       104856\n",
       "2    1 Ave & E 68 St   Classic Bike  Summer  19145       104856\n",
       "3    1 Ave & E 68 St   Classic Bike  Winter   7940       104856\n",
       "4    1 Ave & E 68 St  Electric Bike    Fall  14289       104856"
      ]
     },
     "execution_count": 71,
     "metadata": {},
     "output_type": "execute_result"
    }
   ],
   "source": [
    "grouped_start.head()"
   ]
  },
  {
   "cell_type": "code",
   "execution_count": 84,
   "id": "8abbce2a-0803-4372-9bbe-f2ce274500ed",
   "metadata": {},
   "outputs": [],
   "source": [
    "# Export data\n",
    "grouped_start.to_csv(os.path.join(folderpath, 'DB_bar_chart_start.csv'), index=True)"
   ]
  },
  {
   "cell_type": "code",
   "execution_count": 72,
   "id": "7e49e326-9fe1-4ac0-b894-fe197ac93033",
   "metadata": {},
   "outputs": [
    {
     "data": {
      "text/html": [
       "<div>\n",
       "<style scoped>\n",
       "    .dataframe tbody tr th:only-of-type {\n",
       "        vertical-align: middle;\n",
       "    }\n",
       "\n",
       "    .dataframe tbody tr th {\n",
       "        vertical-align: top;\n",
       "    }\n",
       "\n",
       "    .dataframe thead th {\n",
       "        text-align: right;\n",
       "    }\n",
       "</style>\n",
       "<table border=\"1\" class=\"dataframe\">\n",
       "  <thead>\n",
       "    <tr style=\"text-align: right;\">\n",
       "      <th></th>\n",
       "      <th>end_station_name</th>\n",
       "      <th>rideable_type</th>\n",
       "      <th>season</th>\n",
       "      <th>Total</th>\n",
       "      <th>Grand Total</th>\n",
       "    </tr>\n",
       "  </thead>\n",
       "  <tbody>\n",
       "    <tr>\n",
       "      <th>0</th>\n",
       "      <td>1 Ave &amp; E 68 St</td>\n",
       "      <td>Classic Bike</td>\n",
       "      <td>Fall</td>\n",
       "      <td>14813</td>\n",
       "      <td>105121</td>\n",
       "    </tr>\n",
       "    <tr>\n",
       "      <th>1</th>\n",
       "      <td>1 Ave &amp; E 68 St</td>\n",
       "      <td>Classic Bike</td>\n",
       "      <td>Spring</td>\n",
       "      <td>15068</td>\n",
       "      <td>105121</td>\n",
       "    </tr>\n",
       "    <tr>\n",
       "      <th>2</th>\n",
       "      <td>1 Ave &amp; E 68 St</td>\n",
       "      <td>Classic Bike</td>\n",
       "      <td>Summer</td>\n",
       "      <td>19085</td>\n",
       "      <td>105121</td>\n",
       "    </tr>\n",
       "    <tr>\n",
       "      <th>3</th>\n",
       "      <td>1 Ave &amp; E 68 St</td>\n",
       "      <td>Classic Bike</td>\n",
       "      <td>Winter</td>\n",
       "      <td>7786</td>\n",
       "      <td>105121</td>\n",
       "    </tr>\n",
       "    <tr>\n",
       "      <th>4</th>\n",
       "      <td>1 Ave &amp; E 68 St</td>\n",
       "      <td>Electric Bike</td>\n",
       "      <td>Fall</td>\n",
       "      <td>14425</td>\n",
       "      <td>105121</td>\n",
       "    </tr>\n",
       "  </tbody>\n",
       "</table>\n",
       "</div>"
      ],
      "text/plain": [
       "  end_station_name  rideable_type  season  Total  Grand Total\n",
       "0  1 Ave & E 68 St   Classic Bike    Fall  14813       105121\n",
       "1  1 Ave & E 68 St   Classic Bike  Spring  15068       105121\n",
       "2  1 Ave & E 68 St   Classic Bike  Summer  19085       105121\n",
       "3  1 Ave & E 68 St   Classic Bike  Winter   7786       105121\n",
       "4  1 Ave & E 68 St  Electric Bike    Fall  14425       105121"
      ]
     },
     "execution_count": 72,
     "metadata": {},
     "output_type": "execute_result"
    }
   ],
   "source": [
    "grouped_end.head()"
   ]
  },
  {
   "cell_type": "code",
   "execution_count": 85,
   "id": "813f6694-2bcf-468c-bfbf-d244e1093544",
   "metadata": {},
   "outputs": [],
   "source": [
    "#Export Data\n",
    "grouped_end.to_csv(os.path.join(folderpath, 'DB_bar_chart_end.csv'), index=True)"
   ]
  },
  {
   "cell_type": "code",
   "execution_count": 73,
   "id": "18a29c37-ce5d-4f55-b797-e365f040398f",
   "metadata": {},
   "outputs": [],
   "source": [
    "df_payment = df[['member_casual', 'value']]"
   ]
  },
  {
   "cell_type": "code",
   "execution_count": 74,
   "id": "4cba8f14-2b78-4ef2-bb40-5a95d1746bf6",
   "metadata": {},
   "outputs": [],
   "source": [
    "df_payment_pie = df_payment.groupby('member_casual').sum('value')"
   ]
  },
  {
   "cell_type": "code",
   "execution_count": 75,
   "id": "8aee0063-e6e7-4b89-8fb1-a091c46ae26d",
   "metadata": {},
   "outputs": [
    {
     "data": {
      "text/html": [
       "<div>\n",
       "<style scoped>\n",
       "    .dataframe tbody tr th:only-of-type {\n",
       "        vertical-align: middle;\n",
       "    }\n",
       "\n",
       "    .dataframe tbody tr th {\n",
       "        vertical-align: top;\n",
       "    }\n",
       "\n",
       "    .dataframe thead th {\n",
       "        text-align: right;\n",
       "    }\n",
       "</style>\n",
       "<table border=\"1\" class=\"dataframe\">\n",
       "  <thead>\n",
       "    <tr style=\"text-align: right;\">\n",
       "      <th></th>\n",
       "      <th>value</th>\n",
       "    </tr>\n",
       "    <tr>\n",
       "      <th>member_casual</th>\n",
       "      <th></th>\n",
       "    </tr>\n",
       "  </thead>\n",
       "  <tbody>\n",
       "    <tr>\n",
       "      <th>Casual</th>\n",
       "      <td>6580665</td>\n",
       "    </tr>\n",
       "    <tr>\n",
       "      <th>Member</th>\n",
       "      <td>23257501</td>\n",
       "    </tr>\n",
       "  </tbody>\n",
       "</table>\n",
       "</div>"
      ],
      "text/plain": [
       "                  value\n",
       "member_casual          \n",
       "Casual          6580665\n",
       "Member         23257501"
      ]
     },
     "execution_count": 75,
     "metadata": {},
     "output_type": "execute_result"
    }
   ],
   "source": [
    "df_payment_pie"
   ]
  },
  {
   "cell_type": "code",
   "execution_count": 88,
   "id": "d87335b4-e264-4fb3-89d1-0284f14bcaeb",
   "metadata": {},
   "outputs": [],
   "source": [
    "#Export Data\n",
    "df_payment_pie.to_csv(os.path.join(folderpath, 'DB_pie_payment.csv'), index=True)"
   ]
  },
  {
   "cell_type": "code",
   "execution_count": 77,
   "id": "e7aa022a-411f-4f88-ad80-9e520bbd42c0",
   "metadata": {},
   "outputs": [],
   "source": [
    "df_duration = df[['trip_duration', 'value', 'member_casual', 'season']]"
   ]
  },
  {
   "cell_type": "code",
   "execution_count": 78,
   "id": "02e647e4-7965-4608-85bf-11d655c515db",
   "metadata": {},
   "outputs": [
    {
     "data": {
      "text/html": [
       "<div>\n",
       "<style scoped>\n",
       "    .dataframe tbody tr th:only-of-type {\n",
       "        vertical-align: middle;\n",
       "    }\n",
       "\n",
       "    .dataframe tbody tr th {\n",
       "        vertical-align: top;\n",
       "    }\n",
       "\n",
       "    .dataframe thead th {\n",
       "        text-align: right;\n",
       "    }\n",
       "</style>\n",
       "<table border=\"1\" class=\"dataframe\">\n",
       "  <thead>\n",
       "    <tr style=\"text-align: right;\">\n",
       "      <th></th>\n",
       "      <th>trip_duration</th>\n",
       "      <th>value</th>\n",
       "      <th>member_casual</th>\n",
       "      <th>season</th>\n",
       "    </tr>\n",
       "  </thead>\n",
       "  <tbody>\n",
       "    <tr>\n",
       "      <th>0</th>\n",
       "      <td>528</td>\n",
       "      <td>1</td>\n",
       "      <td>Member</td>\n",
       "      <td>Winter</td>\n",
       "    </tr>\n",
       "    <tr>\n",
       "      <th>1</th>\n",
       "      <td>144</td>\n",
       "      <td>1</td>\n",
       "      <td>Member</td>\n",
       "      <td>Winter</td>\n",
       "    </tr>\n",
       "    <tr>\n",
       "      <th>2</th>\n",
       "      <td>288</td>\n",
       "      <td>1</td>\n",
       "      <td>Member</td>\n",
       "      <td>Winter</td>\n",
       "    </tr>\n",
       "    <tr>\n",
       "      <th>3</th>\n",
       "      <td>333</td>\n",
       "      <td>1</td>\n",
       "      <td>Member</td>\n",
       "      <td>Winter</td>\n",
       "    </tr>\n",
       "    <tr>\n",
       "      <th>4</th>\n",
       "      <td>1119</td>\n",
       "      <td>1</td>\n",
       "      <td>Member</td>\n",
       "      <td>Winter</td>\n",
       "    </tr>\n",
       "  </tbody>\n",
       "</table>\n",
       "</div>"
      ],
      "text/plain": [
       "   trip_duration  value member_casual  season\n",
       "0            528      1        Member  Winter\n",
       "1            144      1        Member  Winter\n",
       "2            288      1        Member  Winter\n",
       "3            333      1        Member  Winter\n",
       "4           1119      1        Member  Winter"
      ]
     },
     "execution_count": 78,
     "metadata": {},
     "output_type": "execute_result"
    }
   ],
   "source": [
    "df_duration.head()"
   ]
  },
  {
   "cell_type": "code",
   "execution_count": 79,
   "id": "e92eae09-e6b7-4264-88b5-67aa054787cd",
   "metadata": {},
   "outputs": [],
   "source": [
    "np.random.seed(32)\n",
    "red = np.random.rand(len(df_duration)) <= 0.975"
   ]
  },
  {
   "cell_type": "code",
   "execution_count": 80,
   "id": "6ef9cd60-18c3-42bb-ba2a-fc36d809e472",
   "metadata": {},
   "outputs": [],
   "source": [
    "small = df_duration[~red]"
   ]
  },
  {
   "cell_type": "code",
   "execution_count": 81,
   "id": "849f3fa1-ef7a-4bcd-b3fb-746047710548",
   "metadata": {},
   "outputs": [
    {
     "data": {
      "text/plain": [
       "(745384, 4)"
      ]
     },
     "execution_count": 81,
     "metadata": {},
     "output_type": "execute_result"
    }
   ],
   "source": [
    "small.shape"
   ]
  },
  {
   "cell_type": "code",
   "execution_count": 86,
   "id": "16b836c9-36dc-49ad-a66c-86498c6c4c50",
   "metadata": {},
   "outputs": [],
   "source": [
    "#Export Data\n",
    "small.to_csv(os.path.join(folderpath, 'DB_hist_duration.csv'), index=True)"
   ]
  },
  {
   "cell_type": "code",
   "execution_count": null,
   "id": "64816657-9b0b-4315-8683-20f63641c1b6",
   "metadata": {},
   "outputs": [],
   "source": []
  }
 ],
 "metadata": {
  "kernelspec": {
   "display_name": "Python (venv_task5)",
   "language": "python",
   "name": "venv_task5"
  },
  "language_info": {
   "codemirror_mode": {
    "name": "ipython",
    "version": 3
   },
   "file_extension": ".py",
   "mimetype": "text/x-python",
   "name": "python",
   "nbconvert_exporter": "python",
   "pygments_lexer": "ipython3",
   "version": "3.10.16"
  }
 },
 "nbformat": 4,
 "nbformat_minor": 5
}
